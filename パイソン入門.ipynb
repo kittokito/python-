{
 "cells": [
  {
   "cell_type": "markdown",
   "id": "81567314-9b18-422e-bcff-576496e41d71",
   "metadata": {},
   "source": [
    "これはデモです。"
   ]
  },
  {
   "cell_type": "code",
   "execution_count": 2,
   "id": "56012ce9-125e-465e-846f-83de28bf31f4",
   "metadata": {
    "tags": []
   },
   "outputs": [
    {
     "name": "stdout",
     "output_type": "stream",
     "text": [
      "good moring\n"
     ]
    }
   ],
   "source": [
    "print(\"good moring\")"
   ]
  },
  {
   "cell_type": "code",
   "execution_count": 3,
   "id": "5fa8d99f-c5b8-457d-90e2-433d77ec7e8b",
   "metadata": {
    "tags": []
   },
   "outputs": [
    {
     "name": "stdout",
     "output_type": "stream",
     "text": [
      "hello\n"
     ]
    }
   ],
   "source": [
    "print(\"hello\")"
   ]
  },
  {
   "cell_type": "markdown",
   "id": "509e1f97-3406-40b7-b59d-bfef9ee152a5",
   "metadata": {},
   "source": [
    "ーーーーーーーーーーーーーーーーーーーーーーーーーーーーーーーーーーーーーーーーーーーーーーーーーーーーーーーーーーーーーーーーーーーー"
   ]
  },
  {
   "cell_type": "markdown",
   "id": "7a59e91c-6a1f-4f94-b216-25528d99ec28",
   "metadata": {},
   "source": [
    "【変数】"
   ]
  },
  {
   "cell_type": "code",
   "execution_count": 4,
   "id": "20ca598f-753d-4a68-ad2c-fe605cce4b33",
   "metadata": {
    "tags": []
   },
   "outputs": [
    {
     "name": "stdout",
     "output_type": "stream",
     "text": [
      "1\n",
      "2\n",
      "3\n"
     ]
    }
   ],
   "source": [
    "# 変数\n",
    "num = 1\n",
    "num01 = 2\n",
    "num_01 = 3\n",
    "print(num)\n",
    "print(num01)\n",
    "print(num_01)"
   ]
  },
  {
   "cell_type": "raw",
   "id": "0cc588b1-3d56-49c7-a4e3-0c4f37baf233",
   "metadata": {},
   "source": [
    "変数名のルール\n",
    "数字から始めることはできない\n",
    "大文字小文字は区別される\n",
    "予約語は使えない"
   ]
  },
  {
   "cell_type": "code",
   "execution_count": 7,
   "id": "b310596f-851d-4844-b843-f325926fbb78",
   "metadata": {
    "tags": []
   },
   "outputs": [
    {
     "name": "stdout",
     "output_type": "stream",
     "text": [
      "['False', 'None', 'True', 'and', 'as', 'assert', 'async', 'await', 'break', 'class', 'continue', 'def', 'del', 'elif', 'else', 'except', 'finally', 'for', 'from', 'global', 'if', 'import', 'in', 'is', 'lambda', 'nonlocal', 'not', 'or', 'pass', 'raise', 'return', 'try', 'while', 'with', 'yield']\n",
      "35\n"
     ]
    }
   ],
   "source": [
    "# 予約語\n",
    "import keyword\n",
    "print(keyword.kwlist)\n",
    "print(len(keyword.kwlist))"
   ]
  },
  {
   "cell_type": "code",
   "execution_count": 9,
   "id": "17358ab9-12e7-4c2c-a949-535d6cedd702",
   "metadata": {
    "tags": []
   },
   "outputs": [
    {
     "name": "stdout",
     "output_type": "stream",
     "text": [
      "True\n",
      "False\n"
     ]
    }
   ],
   "source": [
    "print(keyword.iskeyword('return'))\n",
    "print(keyword.iskeyword('Return'))"
   ]
  },
  {
   "cell_type": "code",
   "execution_count": 10,
   "id": "f54f7c60-9ee6-4b5e-98ac-f0177ed3cbfd",
   "metadata": {
    "tags": []
   },
   "outputs": [
    {
     "name": "stdout",
     "output_type": "stream",
     "text": [
      "4313394808\n",
      "4313394808\n",
      "4313395128\n"
     ]
    }
   ],
   "source": [
    "# id関数\n",
    "a = 10\n",
    "print(id(a))\n",
    "b = a\n",
    "a = 20\n",
    "print(id(b))\n",
    "print(id(a))"
   ]
  },
  {
   "cell_type": "markdown",
   "id": "fdcd5d02-408b-429d-9f51-fe7de00fae4c",
   "metadata": {},
   "source": [
    "ーーーーーーーーーーーーーーーーーーーーーーーーーーーーーーーーーーーーーーーーーーーーーーーーーーーーーーーーーーーーーーーーーーーー"
   ]
  },
  {
   "cell_type": "markdown",
   "id": "a61c2acd-f289-4857-be25-f6ceb19cf768",
   "metadata": {},
   "source": [
    "【データ型】"
   ]
  },
  {
   "cell_type": "code",
   "execution_count": 11,
   "id": "8f687445-5949-4be3-b21a-230283745047",
   "metadata": {
    "tags": []
   },
   "outputs": [
    {
     "name": "stdout",
     "output_type": "stream",
     "text": [
      "<class 'int'>\n",
      "<class 'float'>\n"
     ]
    }
   ],
   "source": [
    "# 数値型\n",
    "num01 = 123\n",
    "num02 = 1.23\n",
    "print(type(num01))\n",
    "print(type(num02))"
   ]
  },
  {
   "cell_type": "code",
   "execution_count": 13,
   "id": "de19f6f0-9981-41e9-bab4-a80ad80dc1d5",
   "metadata": {
    "tags": []
   },
   "outputs": [
    {
     "name": "stdout",
     "output_type": "stream",
     "text": [
      "Hello world\n",
      "<class 'str'>\n"
     ]
    }
   ],
   "source": [
    "# 文字列型\n",
    "string_a = 'Hello world'\n",
    "\n",
    "print(string_a)\n",
    "print(type(string_a))"
   ]
  },
  {
   "cell_type": "code",
   "execution_count": 14,
   "id": "82a1e35f-52d8-417c-99a5-f3cede11cf6f",
   "metadata": {
    "tags": []
   },
   "outputs": [
    {
     "name": "stdout",
     "output_type": "stream",
     "text": [
      "True\n",
      "<class 'bool'>\n"
     ]
    }
   ],
   "source": [
    "# bool型\n",
    "a = 1\n",
    "b = 10\n",
    "\n",
    "bool_01 = (a<b)\n",
    "print(bool_01)\n",
    "print(type(bool_01))"
   ]
  },
  {
   "cell_type": "code",
   "execution_count": 15,
   "id": "f816b5d8-bd93-4085-b6f9-1230eed459fc",
   "metadata": {
    "tags": []
   },
   "outputs": [
    {
     "name": "stdout",
     "output_type": "stream",
     "text": [
      "[1, 2, 3, 'list']\n"
     ]
    }
   ],
   "source": [
    "# list型\n",
    "a = [1, 2, 3, 'list']\n",
    "print(type(a))"
   ]
  },
  {
   "cell_type": "markdown",
   "id": "68300355-78f6-40ab-b0a6-4bb0f0365927",
   "metadata": {},
   "source": [
    "リストの中の順番をインデックスと呼ぶ。"
   ]
  },
  {
   "cell_type": "code",
   "execution_count": 16,
   "id": "b8ab78dd-90bc-42c5-89a2-d5cfb5ae6c97",
   "metadata": {
    "tags": []
   },
   "outputs": [
    {
     "name": "stdout",
     "output_type": "stream",
     "text": [
      "<class 'tuple'>\n"
     ]
    }
   ],
   "source": [
    "# タプル型\n",
    "a = (1, 2, 3, 'tuple')\n",
    "print(type(a))"
   ]
  },
  {
   "cell_type": "markdown",
   "id": "34fd6c75-9850-44a5-a806-1b02ce527ffa",
   "metadata": {},
   "source": [
    "削除と追加ができない"
   ]
  },
  {
   "cell_type": "code",
   "execution_count": 17,
   "id": "40d28cbe-60bf-4541-86e2-7a91e023889a",
   "metadata": {
    "tags": []
   },
   "outputs": [
    {
     "name": "stdout",
     "output_type": "stream",
     "text": [
      "<class 'dict'>\n"
     ]
    }
   ],
   "source": [
    "# 辞書型\n",
    "a = {\"a\":1, \"b\":2, \"c\":3, \"d\":\"dict\"}\n",
    "print(type(a))"
   ]
  },
  {
   "cell_type": "markdown",
   "id": "52da69c2-2f97-4fad-aa83-ded209e52a62",
   "metadata": {},
   "source": [
    "keyとvalueのペアで管理する。"
   ]
  },
  {
   "cell_type": "code",
   "execution_count": 19,
   "id": "cc4b02f6-a82d-42c9-99cf-f650790b8e68",
   "metadata": {
    "tags": []
   },
   "outputs": [
    {
     "name": "stdout",
     "output_type": "stream",
     "text": [
      "{1, 2, 3}\n",
      "{1, 2, 3}\n",
      "<class 'set'>\n",
      "<class 'set'>\n"
     ]
    }
   ],
   "source": [
    "# set型\n",
    "s1 = {1, 2, 3}\n",
    "s2 = {1, 2, 3, 1, 2, 3}\n",
    "\n",
    "print(s1)\n",
    "print(s2)\n",
    "\n",
    "print(type(s1))\n",
    "print(type(s2))"
   ]
  },
  {
   "cell_type": "markdown",
   "id": "d765eef6-7072-4891-9fd9-6061b13e4770",
   "metadata": {},
   "source": [
    "和集合、積集合、差集合などの集合演算を行うことができる\n",
    "リストとの大きな違いは\n",
    "重複した要素がないこと（重複した要素は出力のときには無視される）\n",
    "要素に順番がないこと"
   ]
  },
  {
   "cell_type": "markdown",
   "id": "80cf1d70-2e1e-4295-96a3-5bf254dfb2dd",
   "metadata": {},
   "source": [
    "データ型による個別の機能をメソッドと呼ぶ、\n",
    "データ型によって呼び出せるメソッドは異なる。"
   ]
  },
  {
   "cell_type": "code",
   "execution_count": 20,
   "id": "d83acc83-fe31-4f7b-9336-fcef9f34af9a",
   "metadata": {
    "tags": []
   },
   "outputs": [
    {
     "name": "stdout",
     "output_type": "stream",
     "text": [
      "[1, 2, 3]\n"
     ]
    }
   ],
   "source": [
    "# データ型の変換\n",
    "# tuple→list\n",
    "a = (1, 2, 3)\n",
    "b = list(a)\n",
    "\n",
    "print(b)"
   ]
  },
  {
   "cell_type": "code",
   "execution_count": null,
   "id": "de03f454-a9f3-4aed-9a39-d2bca7999add",
   "metadata": {},
   "outputs": [],
   "source": [
    "# リスト型やタプル型が文字列型を変換すると、一文字ずつに区切られる。 \n",
    "list(\"Hello\")\n",
    "[\"H\",\"e\", \"l\", \"l\", \"o\"]"
   ]
  },
  {
   "cell_type": "code",
   "execution_count": 22,
   "id": "64dd232d-56fa-4fd0-9e20-1cefdb0c269a",
   "metadata": {
    "tags": []
   },
   "outputs": [
    {
     "name": "stdout",
     "output_type": "stream",
     "text": [
      "1234\n",
      "1234\n",
      "<class 'str'>\n",
      "<class 'int'>\n"
     ]
    }
   ],
   "source": [
    "# int関数を使うと文字列を数字にできる\n",
    "a = \"1234\"\n",
    "b = int(a)\n",
    "\n",
    "print(a)\n",
    "print(b)\n",
    "\n",
    "print(type(a))\n",
    "print(type(b))"
   ]
  },
  {
   "cell_type": "markdown",
   "id": "5d522ca6-5e96-4bae-94ba-66851565b78d",
   "metadata": {},
   "source": [
    "同様にして\n",
    "floatは少数に\n",
    "strは文字列に\n",
    "変換できる"
   ]
  },
  {
   "cell_type": "code",
   "execution_count": 23,
   "id": "1c9bfa8a-91b2-4e63-94e6-a1b81d59eb51",
   "metadata": {
    "tags": []
   },
   "outputs": [
    {
     "name": "stdout",
     "output_type": "stream",
     "text": [
      "579\n",
      "123456\n",
      "<class 'int'>\n",
      "<class 'str'>\n"
     ]
    }
   ],
   "source": [
    "# 計算\n",
    "a = 123\n",
    "b = \"123\"\n",
    "\n",
    "c = a + 456\n",
    "d = b + \"456\"\n",
    "\n",
    "print(c)\n",
    "print(d)\n",
    "\n",
    "print(type(c))\n",
    "print(type(d))"
   ]
  },
  {
   "cell_type": "markdown",
   "id": "3cc300ec-1478-4975-9342-7d71919bd840",
   "metadata": {},
   "source": [
    "文字列は＊を使うと繰り返すことができる。\n",
    "数値と文字列を足すことはできない。（異なるデータ型の場合）"
   ]
  },
  {
   "cell_type": "code",
   "execution_count": 25,
   "id": "bdef3b30-1bdd-4afa-a102-f196049716db",
   "metadata": {
    "tags": []
   },
   "outputs": [
    {
     "name": "stdout",
     "output_type": "stream",
     "text": [
      "123456\n"
     ]
    }
   ],
   "source": [
    "a = 123\n",
    "b = str(a) + \"456\"\n",
    "print(b)"
   ]
  },
  {
   "cell_type": "markdown",
   "id": "13aae1e3-2117-42fd-a530-d99b14bc91cc",
   "metadata": {},
   "source": [
    "ーーーーーーーーーーーーーーーーーーーーーーーーーーーーーーーーーーーーーーーーーーーーーーーーーーーーーーーーーーーーーーーーーーーー\n",
    "【リストの基本】"
   ]
  },
  {
   "cell_type": "code",
   "execution_count": 27,
   "id": "9b03501d-2d65-421b-bf4e-da620a1cbdd9",
   "metadata": {
    "tags": []
   },
   "outputs": [
    {
     "name": "stdout",
     "output_type": "stream",
     "text": [
      "['suzuki', 'tanaka', 'takahasi']\n",
      "suzuki\n",
      "tanaka\n"
     ]
    }
   ],
   "source": [
    "a = ['suzuki', 'sato', 'takahasi']\n",
    "\n",
    "a[1] = 'tanaka'\n",
    "\n",
    "print(a)\n",
    "print(a[0])\n",
    "print(a[1])"
   ]
  },
  {
   "cell_type": "markdown",
   "id": "56920184-cc82-4e27-b0b6-73d462c66a2f",
   "metadata": {},
   "source": [
    "インデックス、０から始まる"
   ]
  },
  {
   "cell_type": "code",
   "execution_count": 28,
   "id": "98f70009-ff02-4fe0-82dc-030f693cfb25",
   "metadata": {
    "tags": []
   },
   "outputs": [
    {
     "name": "stdout",
     "output_type": "stream",
     "text": [
      "takahasi\n",
      "sato\n"
     ]
    }
   ],
   "source": [
    "# 末尾から数える\n",
    "a = ['suzuki', 'sato', 'takahasi']\n",
    "\n",
    "print(a[-1])\n",
    "print(a[-2])"
   ]
  },
  {
   "cell_type": "code",
   "execution_count": 29,
   "id": "e612b797-9f51-4de8-b174-b10870e61cdc",
   "metadata": {
    "tags": []
   },
   "outputs": [
    {
     "name": "stdout",
     "output_type": "stream",
     "text": [
      "[3, 4]\n",
      "[1, 2]\n",
      "[3, 4, 5]\n"
     ]
    }
   ],
   "source": [
    "# スライス\n",
    "a = [1, 2, 3, 4, 5]\n",
    "\n",
    "print(a[2:4])\n",
    "# 終了位置は含まれない\n",
    "print(a[:2])\n",
    "print(a[2:])"
   ]
  },
  {
   "cell_type": "code",
   "execution_count": 30,
   "id": "72c206b9-9151-4aa8-beae-f0bcd6b22d01",
   "metadata": {
    "tags": []
   },
   "outputs": [
    {
     "name": "stdout",
     "output_type": "stream",
     "text": [
      "[1, 3, 5]\n",
      "[5, 2]\n"
     ]
    }
   ],
   "source": [
    "# ステップ\n",
    "a = [1, 2, 3, 4, 5]\n",
    "print(a[::2])\n",
    "print(a[::-3])"
   ]
  },
  {
   "cell_type": "code",
   "execution_count": 31,
   "id": "bfd26879-aad4-429a-bc4a-b23e8d2c29ec",
   "metadata": {
    "tags": []
   },
   "outputs": [
    {
     "name": "stdout",
     "output_type": "stream",
     "text": [
      "sato\n",
      "tanaka\n"
     ]
    }
   ],
   "source": [
    "# リストのネスト\n",
    "a = [['suzuki', 'sato'],['takahasi', 'tanaka']]\n",
    "\n",
    "print(a[0][1])\n",
    "print(a[1][1])"
   ]
  },
  {
   "cell_type": "code",
   "execution_count": 32,
   "id": "0c735d5f-dd95-4bea-b225-4e5750e6dde6",
   "metadata": {
    "tags": []
   },
   "outputs": [
    {
     "name": "stdout",
     "output_type": "stream",
     "text": [
      "['suzuki', 'sato', 'takahasi', 'tanaka']\n"
     ]
    }
   ],
   "source": [
    "# リストの足し算\n",
    "a = ['suzuki', 'sato']\n",
    "a = a + ['takahasi', 'tanaka']\n",
    "\n",
    "print(a)"
   ]
  },
  {
   "cell_type": "code",
   "execution_count": 33,
   "id": "a6426877-65d5-4539-a69c-bd7da2b00722",
   "metadata": {
    "tags": []
   },
   "outputs": [
    {
     "name": "stdout",
     "output_type": "stream",
     "text": [
      "['suzuki', 'sato', 'suzuki', 'sato']\n"
     ]
    }
   ],
   "source": [
    "# 掛け算\n",
    "a = ['suzuki', 'sato']*2\n",
    "print(a)\n"
   ]
  },
  {
   "cell_type": "markdown",
   "id": "cd6fd336-d462-4129-a6bd-f6a531534d84",
   "metadata": {},
   "source": [
    "ーーーーーーーーーーーーーーーーーーーーーーーーーーーーーーーーーーーーーーーーーーーーーーーーーーーーーーーーーーーーーーーーーーーー\n",
    "【リストのメソッド】(1/18はここから)"
   ]
  },
  {
   "cell_type": "code",
   "execution_count": 1,
   "id": "79cf8030-d4f8-4621-929b-9f44a7ee2c81",
   "metadata": {
    "tags": []
   },
   "outputs": [
    {
     "name": "stdout",
     "output_type": "stream",
     "text": [
      "['suzuki', 'sato', 'takahasi', 'tanaka']\n"
     ]
    }
   ],
   "source": [
    "# 末尾に追加(append)\n",
    "a = ['suzuki', 'sato', 'takahasi']\n",
    "\n",
    "a.append('tanaka')\n",
    "\n",
    "print(a)"
   ]
  },
  {
   "cell_type": "code",
   "execution_count": 38,
   "id": "67212734-1643-4011-aec2-8a3bd336cd35",
   "metadata": {
    "tags": []
   },
   "outputs": [
    {
     "name": "stdout",
     "output_type": "stream",
     "text": [
      "['suzuki', 'sato', 'takahasi', ['nomura', 'osada']]\n"
     ]
    }
   ],
   "source": [
    "a = ['suzuki', 'sato', 'takahasi']\n",
    "\n",
    "a.append(['nomura','osada'])\n",
    "print(a)"
   ]
  },
  {
   "cell_type": "code",
   "execution_count": 40,
   "id": "9709f855-89ed-4b17-baf1-f162471da9cc",
   "metadata": {
    "tags": []
   },
   "outputs": [
    {
     "name": "stdout",
     "output_type": "stream",
     "text": [
      "['suzuki', 'sato', 'takahasi', 'nomura', 'osada']\n"
     ]
    }
   ],
   "source": [
    "# 末尾に要素として分解して追加（extend）\n",
    "a = ['suzuki', 'sato', 'takahasi']\n",
    "\n",
    "a.extend(['nomura','osada'])\n",
    "print(a)"
   ]
  },
  {
   "cell_type": "code",
   "execution_count": 41,
   "id": "7ec44420-b0e5-4bda-9d2f-090a2e13228b",
   "metadata": {
    "tags": []
   },
   "outputs": [
    {
     "name": "stdout",
     "output_type": "stream",
     "text": [
      "['suzuki', 'sato', 'takahasi', 'n', 'o', 'm', 'u', 'r', 'a']\n"
     ]
    }
   ],
   "source": [
    "a = ['suzuki', 'sato', 'takahasi']\n",
    "\n",
    "a.extend('nomura')\n",
    "print(a)"
   ]
  },
  {
   "cell_type": "code",
   "execution_count": 42,
   "id": "66bfa955-8ed8-4b3c-b9ab-9cb61a34cd05",
   "metadata": {
    "tags": []
   },
   "outputs": [
    {
     "name": "stdout",
     "output_type": "stream",
     "text": [
      "['tanaka', 'suzuki', 'sato', 'takahasi']\n"
     ]
    }
   ],
   "source": [
    "# リストの指定した位置に要素を追加（insert）\n",
    "a = ['suzuki', 'sato', 'takahasi']\n",
    "\n",
    "a.insert(0, 'tanaka')\n",
    "print(a)"
   ]
  },
  {
   "cell_type": "code",
   "execution_count": 43,
   "id": "e69de118-8de3-4a7a-b37f-584039198008",
   "metadata": {
    "tags": []
   },
   "outputs": [
    {
     "name": "stdout",
     "output_type": "stream",
     "text": [
      "['sato', 'takahasi']\n"
     ]
    }
   ],
   "source": [
    "# リストの要素を削除\n",
    "a = ['suzuki', 'sato', 'takahasi']\n",
    "\n",
    "del a[0]\n",
    "print(a)"
   ]
  },
  {
   "cell_type": "code",
   "execution_count": 2,
   "id": "4ae7d8d2-cc3b-4f32-9e1f-04d560af80e4",
   "metadata": {
    "tags": []
   },
   "outputs": [
    {
     "name": "stdout",
     "output_type": "stream",
     "text": [
      "suzuki\n",
      "['sato', 'takahasi']\n"
     ]
    }
   ],
   "source": [
    "# リストの要素の削除と表示(pop)\n",
    "a = ['suzuki', 'sato', 'takahasi']\n",
    "\n",
    "print(a.pop(0))\n",
    "print(a)"
   ]
  },
  {
   "cell_type": "code",
   "execution_count": 3,
   "id": "4f3b0995-a0f2-4514-9fac-cffbe878cb05",
   "metadata": {
    "tags": []
   },
   "outputs": [
    {
     "name": "stdout",
     "output_type": "stream",
     "text": [
      "takahasi\n",
      "['suzuki', 'sato']\n"
     ]
    }
   ],
   "source": [
    "# （）の中身をなくすと\n",
    "a = ['suzuki', 'sato', 'takahasi']\n",
    "\n",
    "print(a.pop())\n",
    "print(a)"
   ]
  },
  {
   "cell_type": "code",
   "execution_count": 5,
   "id": "742d4a89-422e-401c-95fd-8070a8052fc2",
   "metadata": {
    "tags": []
   },
   "outputs": [
    {
     "name": "stdout",
     "output_type": "stream",
     "text": [
      "['sato', 'takahasi', 'suzuki']\n"
     ]
    }
   ],
   "source": [
    "# リストの指定した要素の削除(remove)\n",
    "a = ['suzuki', 'sato', 'takahasi', 'suzuki']\n",
    "\n",
    "a.remove('suzuki')\n",
    "print(a)"
   ]
  },
  {
   "cell_type": "markdown",
   "id": "c5ccecd6-7e20-4f5d-80fe-687207ddfdd2",
   "metadata": {},
   "source": [
    "同じ要素が２つある場合には最初の一つのみ削除"
   ]
  },
  {
   "cell_type": "code",
   "execution_count": 7,
   "id": "3b1807c5-6263-4763-9f1f-38b6e10243df",
   "metadata": {
    "tags": []
   },
   "outputs": [
    {
     "name": "stdout",
     "output_type": "stream",
     "text": [
      "[]\n"
     ]
    }
   ],
   "source": [
    "# リストのすべての要素の削除(clear)\n",
    "a = ['suzuki', 'sato', 'takahasi']\n",
    "\n",
    "a.clear()\n",
    "print(a)"
   ]
  },
  {
   "cell_type": "markdown",
   "id": "4b792a5c-b693-46b7-9e3c-3ae9c91626fb",
   "metadata": {},
   "source": [
    "ーーーーーーーーーーーーーーーーーーーーーーーーーーーーーーーーーーーーーーーーーーーーーーーーーーーーーーーーーーーーーーーーーーーー\n",
    "【リストのメソッド（情報を取得）】"
   ]
  },
  {
   "cell_type": "code",
   "execution_count": 8,
   "id": "e3e29358-7da2-46bc-a568-2a898afb8532",
   "metadata": {
    "tags": []
   },
   "outputs": [
    {
     "name": "stdout",
     "output_type": "stream",
     "text": [
      "True\n",
      "False\n"
     ]
    }
   ],
   "source": [
    "# 要素の検索\n",
    "a = ['suzuki', 'sato', 'takahasi']\n",
    "\n",
    "print('suzuki' in a)\n",
    "print('nomura' in a)"
   ]
  },
  {
   "cell_type": "code",
   "execution_count": 9,
   "id": "670e3d73-c96e-4b1f-be11-426af761de4b",
   "metadata": {
    "tags": []
   },
   "outputs": [
    {
     "name": "stdout",
     "output_type": "stream",
     "text": [
      "2\n"
     ]
    }
   ],
   "source": [
    "# 指定した要素の個数の取得(count)\n",
    "a = ['suzuki', 'sato', 'takahasi', 'suzuki']\n",
    "\n",
    "print(a.count('suzuki'))"
   ]
  },
  {
   "cell_type": "code",
   "execution_count": 18,
   "id": "b9a489b9-9859-4fe3-91ff-16c7d1966470",
   "metadata": {
    "tags": []
   },
   "outputs": [
    {
     "name": "stdout",
     "output_type": "stream",
     "text": [
      "0\n"
     ]
    },
    {
     "ename": "ValueError",
     "evalue": "'tanaka' is not in list",
     "output_type": "error",
     "traceback": [
      "\u001b[0;31m---------------------------------------------------------------------------\u001b[0m",
      "\u001b[0;31mValueError\u001b[0m                                Traceback (most recent call last)",
      "Cell \u001b[0;32mIn[18], line 5\u001b[0m\n\u001b[1;32m      2\u001b[0m a \u001b[38;5;241m=\u001b[39m [\u001b[38;5;124m'\u001b[39m\u001b[38;5;124msuzuki\u001b[39m\u001b[38;5;124m'\u001b[39m, \u001b[38;5;124m'\u001b[39m\u001b[38;5;124msato\u001b[39m\u001b[38;5;124m'\u001b[39m, \u001b[38;5;124m'\u001b[39m\u001b[38;5;124mtakahasi\u001b[39m\u001b[38;5;124m'\u001b[39m]\n\u001b[1;32m      4\u001b[0m \u001b[38;5;28mprint\u001b[39m(a\u001b[38;5;241m.\u001b[39mindex(\u001b[38;5;124m'\u001b[39m\u001b[38;5;124msuzuki\u001b[39m\u001b[38;5;124m'\u001b[39m))\n\u001b[0;32m----> 5\u001b[0m \u001b[38;5;28mprint\u001b[39m(a\u001b[38;5;241m.\u001b[39mindex(\u001b[38;5;124m'\u001b[39m\u001b[38;5;124mtanaka\u001b[39m\u001b[38;5;124m'\u001b[39m))\n",
      "\u001b[0;31mValueError\u001b[0m: 'tanaka' is not in list"
     ]
    }
   ],
   "source": [
    "# 指定した要素のインデックスを調べる(index)\n",
    "a = ['suzuki', 'sato', 'takahasi']\n",
    "\n",
    "print(a.index('suzuki'))\n",
    "print(a.index('tanaka'))"
   ]
  },
  {
   "cell_type": "code",
   "execution_count": 15,
   "id": "96e3110e-adc7-4e42-87ce-47ad0585282e",
   "metadata": {
    "tags": []
   },
   "outputs": [
    {
     "name": "stdout",
     "output_type": "stream",
     "text": [
      "[2, 3, 5, 7, 9]\n"
     ]
    }
   ],
   "source": [
    "# リストの並び替え（sort)\n",
    "# 小さい順\n",
    "a = [7, 5, 9, 2, 3]\n",
    "\n",
    "a.sort()\n",
    "print(a)"
   ]
  },
  {
   "cell_type": "code",
   "execution_count": 17,
   "id": "b4f1661f-3ccc-414e-808d-d3b807a65b84",
   "metadata": {
    "tags": []
   },
   "outputs": [
    {
     "name": "stdout",
     "output_type": "stream",
     "text": [
      "[9, 7, 5, 3, 2]\n"
     ]
    }
   ],
   "source": [
    "# 大きい順\n",
    "a = [7, 5, 9, 2, 3]\n",
    "\n",
    "a.sort(reverse = True)\n",
    "print(a)"
   ]
  },
  {
   "cell_type": "code",
   "execution_count": 19,
   "id": "5aeaf106-af37-438d-acaa-2700f37f6419",
   "metadata": {
    "tags": []
   },
   "outputs": [
    {
     "name": "stdout",
     "output_type": "stream",
     "text": [
      "['takahasi', 'sato', 'suzuki']\n"
     ]
    }
   ],
   "source": [
    "# リストの並び順を逆にする（reverse)\n",
    "a = ['suzuki', 'sato', 'takahasi']\n",
    "\n",
    "a.reverse()\n",
    "print(a)"
   ]
  },
  {
   "cell_type": "code",
   "execution_count": 21,
   "id": "e71fb038-f48d-42b1-ab66-91ce77e90d0f",
   "metadata": {
    "tags": []
   },
   "outputs": [
    {
     "name": "stdout",
     "output_type": "stream",
     "text": [
      "9\n",
      "2\n"
     ]
    }
   ],
   "source": [
    "# リストの最大値と最小値を取得(max,min)\n",
    "a = [7, 5, 9, 2, 3]\n",
    "\n",
    "print(max(a))\n",
    "print(min(a))"
   ]
  },
  {
   "cell_type": "code",
   "execution_count": 22,
   "id": "157f1629-b75d-4d7a-8efa-bcafdd2e2e57",
   "metadata": {
    "tags": []
   },
   "outputs": [
    {
     "name": "stdout",
     "output_type": "stream",
     "text": [
      "2\n"
     ]
    }
   ],
   "source": [
    "# 応用\n",
    "a = [7, 5, 9, 2, 3]\n",
    "\n",
    "print(a.index(max(a)))"
   ]
  },
  {
   "cell_type": "code",
   "execution_count": 23,
   "id": "20a3b4ba-386c-45b7-a61e-ae21fb2e9119",
   "metadata": {
    "tags": []
   },
   "outputs": [
    {
     "name": "stdout",
     "output_type": "stream",
     "text": [
      "5\n"
     ]
    }
   ],
   "source": [
    "# リストの要素数を取得（len）\n",
    "a = [7, 5, 9, 2, 3]\n",
    "\n",
    "print(len(a))"
   ]
  },
  {
   "cell_type": "markdown",
   "id": "afc1d4cb-84b0-487a-a059-2e5766cde35b",
   "metadata": {},
   "source": [
    "ーーーーーーーーーーーーーーーーーーーーーーーーーーーーーーーーーーーーーーーーーーーーーーーーーーーーーーーーーーーーーーーーーーーー\n",
    "【タプル】要素の追加、変更、削除ができない/メソッドもindexとcountのみ"
   ]
  },
  {
   "cell_type": "code",
   "execution_count": 24,
   "id": "64215d53-fb9f-45ee-be90-6ac9691b115e",
   "metadata": {
    "tags": []
   },
   "outputs": [
    {
     "name": "stdout",
     "output_type": "stream",
     "text": [
      "('suzuki', 'sato', 'takahasi')\n"
     ]
    }
   ],
   "source": [
    "# タプルの作りかた\n",
    "a = ('suzuki', 'sato', 'takahasi')\n",
    "\n",
    "print(a)\n"
   ]
  },
  {
   "cell_type": "code",
   "execution_count": 25,
   "id": "c8f37519-dddd-4640-9ff7-a48db35db276",
   "metadata": {
    "tags": []
   },
   "outputs": [
    {
     "name": "stdout",
     "output_type": "stream",
     "text": [
      "suzuki\n",
      "takahasi\n"
     ]
    }
   ],
   "source": [
    "# タプルへのアクセス\n",
    "a = ('suzuki', 'sato', 'takahasi')\n",
    "\n",
    "print(a[0])\n",
    "print(a[2])"
   ]
  },
  {
   "cell_type": "code",
   "execution_count": 26,
   "id": "268cebfc-9fb4-4919-b7e9-8e920953c82b",
   "metadata": {
    "tags": []
   },
   "outputs": [
    {
     "name": "stdout",
     "output_type": "stream",
     "text": [
      "(3, 4)\n",
      "(1, 2)\n",
      "(3, 4, 5)\n"
     ]
    }
   ],
   "source": [
    "# タプルのスライス\n",
    "a = (1, 2, 3, 4, 5)\n",
    "\n",
    "print(a[2:4])\n",
    "# 終了位置は含まれない（未満）\n",
    "print(a[:2])\n",
    "print(a[2:])"
   ]
  },
  {
   "cell_type": "markdown",
   "id": "2c324291-6664-46df-a08f-63467351cb3d",
   "metadata": {},
   "source": [
    "リストのところでも説明したのとほぼ同じ\n",
    "\n",
    "ステップ（：：のやつ）/ネスト/足し算・掛け算/index・count"
   ]
  },
  {
   "cell_type": "code",
   "execution_count": 28,
   "id": "c7484e94-6c96-46fc-90f0-58d54c01ca24",
   "metadata": {},
   "outputs": [
    {
     "name": "stdout",
     "output_type": "stream",
     "text": [
      "[2, 4, 5, 7, 8, 9]\n"
     ]
    }
   ],
   "source": [
    "# タプルの情報の取得\n",
    "# 要素の並び替え（sorted）\n",
    "a = (7, 4, 2, 8, 5, 9)\n",
    "\n",
    "a = sorted(a)\n",
    "print(a)"
   ]
  },
  {
   "cell_type": "code",
   "execution_count": 29,
   "id": "ef0d3924-a3d3-490d-a923-1dc6ff17ff94",
   "metadata": {
    "tags": []
   },
   "outputs": [
    {
     "name": "stdout",
     "output_type": "stream",
     "text": [
      "[9, 8, 7, 5, 4, 2]\n"
     ]
    }
   ],
   "source": [
    "a = (7, 4, 2, 8, 5, 9)\n",
    "\n",
    "a = sorted(a, reverse = True)\n",
    "print(a)"
   ]
  },
  {
   "cell_type": "code",
   "execution_count": 30,
   "id": "f44850fc-6219-4e25-959e-f05348f5839b",
   "metadata": {
    "tags": []
   },
   "outputs": [
    {
     "name": "stdout",
     "output_type": "stream",
     "text": [
      "(9, 6, 7, 3, 5)\n"
     ]
    }
   ],
   "source": [
    "# タプル型への変換\n",
    "l = [9, 6, 7, 3, 5]\n",
    "a = tuple(l)\n",
    "\n",
    "print(a)"
   ]
  },
  {
   "cell_type": "code",
   "execution_count": 32,
   "id": "26df9ab4-d81c-48e8-aaaf-981fc9515327",
   "metadata": {
    "tags": []
   },
   "outputs": [
    {
     "name": "stdout",
     "output_type": "stream",
     "text": [
      "('n', 'o', 'm', 'u', 'r', 'a')\n"
     ]
    }
   ],
   "source": [
    "l = 'nomura'\n",
    "a = tuple(l)\n",
    "\n",
    "print(a)"
   ]
  },
  {
   "cell_type": "code",
   "execution_count": null,
   "id": "4cb2f470-67eb-46ad-b9cf-55da8f5693bb",
   "metadata": {},
   "outputs": [],
   "source": []
  }
 ],
 "metadata": {
  "kernelspec": {
   "display_name": "Python 3 (ipykernel)",
   "language": "python",
   "name": "python3"
  },
  "language_info": {
   "codemirror_mode": {
    "name": "ipython",
    "version": 3
   },
   "file_extension": ".py",
   "mimetype": "text/x-python",
   "name": "python",
   "nbconvert_exporter": "python",
   "pygments_lexer": "ipython3",
   "version": "3.11.5"
  }
 },
 "nbformat": 4,
 "nbformat_minor": 5
}
