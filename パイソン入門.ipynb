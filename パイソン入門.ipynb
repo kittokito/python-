{
 "cells": [
  {
   "cell_type": "markdown",
   "id": "7a59e91c-6a1f-4f94-b216-25528d99ec28",
   "metadata": {
    "jp-MarkdownHeadingCollapsed": true,
    "tags": []
   },
   "source": [
    "# 変数"
   ]
  },
  {
   "cell_type": "code",
   "execution_count": 4,
   "id": "20ca598f-753d-4a68-ad2c-fe605cce4b33",
   "metadata": {
    "tags": []
   },
   "outputs": [
    {
     "name": "stdout",
     "output_type": "stream",
     "text": [
      "1\n",
      "2\n",
      "3\n"
     ]
    }
   ],
   "source": [
    "# 変数\n",
    "num = 1\n",
    "num01 = 2\n",
    "num_01 = 3\n",
    "print(num)\n",
    "print(num01)\n",
    "print(num_01)"
   ]
  },
  {
   "cell_type": "raw",
   "id": "0cc588b1-3d56-49c7-a4e3-0c4f37baf233",
   "metadata": {},
   "source": [
    "変数名のルール\n",
    "数字から始めることはできない\n",
    "大文字小文字は区別される\n",
    "予約語は使えない"
   ]
  },
  {
   "cell_type": "code",
   "execution_count": 7,
   "id": "b310596f-851d-4844-b843-f325926fbb78",
   "metadata": {
    "tags": []
   },
   "outputs": [
    {
     "name": "stdout",
     "output_type": "stream",
     "text": [
      "['False', 'None', 'True', 'and', 'as', 'assert', 'async', 'await', 'break', 'class', 'continue', 'def', 'del', 'elif', 'else', 'except', 'finally', 'for', 'from', 'global', 'if', 'import', 'in', 'is', 'lambda', 'nonlocal', 'not', 'or', 'pass', 'raise', 'return', 'try', 'while', 'with', 'yield']\n",
      "35\n"
     ]
    }
   ],
   "source": [
    "# 予約語\n",
    "import keyword\n",
    "print(keyword.kwlist)\n",
    "print(len(keyword.kwlist))"
   ]
  },
  {
   "cell_type": "code",
   "execution_count": 9,
   "id": "17358ab9-12e7-4c2c-a949-535d6cedd702",
   "metadata": {
    "tags": []
   },
   "outputs": [
    {
     "name": "stdout",
     "output_type": "stream",
     "text": [
      "True\n",
      "False\n"
     ]
    }
   ],
   "source": [
    "print(keyword.iskeyword('return'))\n",
    "print(keyword.iskeyword('Return'))"
   ]
  },
  {
   "cell_type": "code",
   "execution_count": 10,
   "id": "f54f7c60-9ee6-4b5e-98ac-f0177ed3cbfd",
   "metadata": {
    "tags": []
   },
   "outputs": [
    {
     "name": "stdout",
     "output_type": "stream",
     "text": [
      "4313394808\n",
      "4313394808\n",
      "4313395128\n"
     ]
    }
   ],
   "source": [
    "# id関数\n",
    "a = 10\n",
    "print(id(a))\n",
    "b = a\n",
    "a = 20\n",
    "print(id(b))\n",
    "print(id(a))"
   ]
  },
  {
   "cell_type": "markdown",
   "id": "fdcd5d02-408b-429d-9f51-fe7de00fae4c",
   "metadata": {},
   "source": [
    "ーーーーーーーーーーーーーーーーーーーーーーーーーーーーーーーーーーーーーーーーーーーーーーーーーーーーーーーーーーーーーーーーーーーー"
   ]
  },
  {
   "cell_type": "markdown",
   "id": "a61c2acd-f289-4857-be25-f6ceb19cf768",
   "metadata": {
    "jp-MarkdownHeadingCollapsed": true,
    "tags": []
   },
   "source": [
    "# データ型について"
   ]
  },
  {
   "cell_type": "code",
   "execution_count": 11,
   "id": "8f687445-5949-4be3-b21a-230283745047",
   "metadata": {
    "tags": []
   },
   "outputs": [
    {
     "name": "stdout",
     "output_type": "stream",
     "text": [
      "<class 'int'>\n",
      "<class 'float'>\n"
     ]
    }
   ],
   "source": [
    "# 数値型\n",
    "num01 = 123\n",
    "num02 = 1.23\n",
    "print(type(num01))\n",
    "print(type(num02))"
   ]
  },
  {
   "cell_type": "code",
   "execution_count": 13,
   "id": "de19f6f0-9981-41e9-bab4-a80ad80dc1d5",
   "metadata": {
    "tags": []
   },
   "outputs": [
    {
     "name": "stdout",
     "output_type": "stream",
     "text": [
      "Hello world\n",
      "<class 'str'>\n"
     ]
    }
   ],
   "source": [
    "# 文字列型\n",
    "string_a = 'Hello world'\n",
    "\n",
    "print(string_a)\n",
    "print(type(string_a))"
   ]
  },
  {
   "cell_type": "code",
   "execution_count": 14,
   "id": "82a1e35f-52d8-417c-99a5-f3cede11cf6f",
   "metadata": {
    "tags": []
   },
   "outputs": [
    {
     "name": "stdout",
     "output_type": "stream",
     "text": [
      "True\n",
      "<class 'bool'>\n"
     ]
    }
   ],
   "source": [
    "# bool型\n",
    "a = 1\n",
    "b = 10\n",
    "\n",
    "bool_01 = (a<b)\n",
    "print(bool_01)\n",
    "print(type(bool_01))"
   ]
  },
  {
   "cell_type": "code",
   "execution_count": 15,
   "id": "f816b5d8-bd93-4085-b6f9-1230eed459fc",
   "metadata": {
    "tags": []
   },
   "outputs": [
    {
     "name": "stdout",
     "output_type": "stream",
     "text": [
      "[1, 2, 3, 'list']\n"
     ]
    }
   ],
   "source": [
    "# list型\n",
    "a = [1, 2, 3, 'list']\n",
    "print(type(a))"
   ]
  },
  {
   "cell_type": "markdown",
   "id": "68300355-78f6-40ab-b0a6-4bb0f0365927",
   "metadata": {},
   "source": [
    "リストの中の順番をインデックスと呼ぶ。"
   ]
  },
  {
   "cell_type": "code",
   "execution_count": 16,
   "id": "b8ab78dd-90bc-42c5-89a2-d5cfb5ae6c97",
   "metadata": {
    "tags": []
   },
   "outputs": [
    {
     "name": "stdout",
     "output_type": "stream",
     "text": [
      "<class 'tuple'>\n"
     ]
    }
   ],
   "source": [
    "# タプル型\n",
    "a = (1, 2, 3, 'tuple')\n",
    "print(type(a))"
   ]
  },
  {
   "cell_type": "markdown",
   "id": "34fd6c75-9850-44a5-a806-1b02ce527ffa",
   "metadata": {},
   "source": [
    "削除と追加ができない"
   ]
  },
  {
   "cell_type": "code",
   "execution_count": 17,
   "id": "40d28cbe-60bf-4541-86e2-7a91e023889a",
   "metadata": {
    "tags": []
   },
   "outputs": [
    {
     "name": "stdout",
     "output_type": "stream",
     "text": [
      "<class 'dict'>\n"
     ]
    }
   ],
   "source": [
    "# 辞書型\n",
    "a = {\"a\":1, \"b\":2, \"c\":3, \"d\":\"dict\"}\n",
    "print(type(a))"
   ]
  },
  {
   "cell_type": "markdown",
   "id": "52da69c2-2f97-4fad-aa83-ded209e52a62",
   "metadata": {},
   "source": [
    "keyとvalueのペアで管理する。"
   ]
  },
  {
   "cell_type": "code",
   "execution_count": 19,
   "id": "cc4b02f6-a82d-42c9-99cf-f650790b8e68",
   "metadata": {
    "tags": []
   },
   "outputs": [
    {
     "name": "stdout",
     "output_type": "stream",
     "text": [
      "{1, 2, 3}\n",
      "{1, 2, 3}\n",
      "<class 'set'>\n",
      "<class 'set'>\n"
     ]
    }
   ],
   "source": [
    "# set型\n",
    "s1 = {1, 2, 3}\n",
    "s2 = {1, 2, 3, 1, 2, 3}\n",
    "\n",
    "print(s1)\n",
    "print(s2)\n",
    "\n",
    "print(type(s1))\n",
    "print(type(s2))"
   ]
  },
  {
   "cell_type": "markdown",
   "id": "d765eef6-7072-4891-9fd9-6061b13e4770",
   "metadata": {},
   "source": [
    "和集合、積集合、差集合などの集合演算を行うことができる\n",
    "リストとの大きな違いは\n",
    "重複した要素がないこと（重複した要素は出力のときには無視される）\n",
    "要素に順番がないこと"
   ]
  },
  {
   "cell_type": "markdown",
   "id": "80cf1d70-2e1e-4295-96a3-5bf254dfb2dd",
   "metadata": {},
   "source": [
    "データ型による個別の機能をメソッドと呼ぶ、\n",
    "データ型によって呼び出せるメソッドは異なる。"
   ]
  },
  {
   "cell_type": "code",
   "execution_count": 20,
   "id": "d83acc83-fe31-4f7b-9336-fcef9f34af9a",
   "metadata": {
    "tags": []
   },
   "outputs": [
    {
     "name": "stdout",
     "output_type": "stream",
     "text": [
      "[1, 2, 3]\n"
     ]
    }
   ],
   "source": [
    "# データ型の変換\n",
    "# tuple→list\n",
    "a = (1, 2, 3)\n",
    "b = list(a)\n",
    "\n",
    "print(b)"
   ]
  },
  {
   "cell_type": "code",
   "execution_count": null,
   "id": "de03f454-a9f3-4aed-9a39-d2bca7999add",
   "metadata": {},
   "outputs": [],
   "source": [
    "# リスト型やタプル型が文字列型を変換すると、一文字ずつに区切られる。 \n",
    "list(\"Hello\")\n",
    "[\"H\",\"e\", \"l\", \"l\", \"o\"]"
   ]
  },
  {
   "cell_type": "code",
   "execution_count": 22,
   "id": "64dd232d-56fa-4fd0-9e20-1cefdb0c269a",
   "metadata": {
    "tags": []
   },
   "outputs": [
    {
     "name": "stdout",
     "output_type": "stream",
     "text": [
      "1234\n",
      "1234\n",
      "<class 'str'>\n",
      "<class 'int'>\n"
     ]
    }
   ],
   "source": [
    "# int関数を使うと文字列を数字にできる\n",
    "a = \"1234\"\n",
    "b = int(a)\n",
    "\n",
    "print(a)\n",
    "print(b)\n",
    "\n",
    "print(type(a))\n",
    "print(type(b))"
   ]
  },
  {
   "cell_type": "markdown",
   "id": "5d522ca6-5e96-4bae-94ba-66851565b78d",
   "metadata": {},
   "source": [
    "同様にして\n",
    "floatは少数に\n",
    "strは文字列に\n",
    "変換できる"
   ]
  },
  {
   "cell_type": "code",
   "execution_count": 23,
   "id": "1c9bfa8a-91b2-4e63-94e6-a1b81d59eb51",
   "metadata": {
    "tags": []
   },
   "outputs": [
    {
     "name": "stdout",
     "output_type": "stream",
     "text": [
      "579\n",
      "123456\n",
      "<class 'int'>\n",
      "<class 'str'>\n"
     ]
    }
   ],
   "source": [
    "# 計算\n",
    "a = 123\n",
    "b = \"123\"\n",
    "\n",
    "c = a + 456\n",
    "d = b + \"456\"\n",
    "\n",
    "print(c)\n",
    "print(d)\n",
    "\n",
    "print(type(c))\n",
    "print(type(d))"
   ]
  },
  {
   "cell_type": "markdown",
   "id": "3cc300ec-1478-4975-9342-7d71919bd840",
   "metadata": {},
   "source": [
    "文字列は＊を使うと繰り返すことができる。\n",
    "数値と文字列を足すことはできない。（異なるデータ型の場合）"
   ]
  },
  {
   "cell_type": "code",
   "execution_count": 25,
   "id": "bdef3b30-1bdd-4afa-a102-f196049716db",
   "metadata": {
    "tags": []
   },
   "outputs": [
    {
     "name": "stdout",
     "output_type": "stream",
     "text": [
      "123456\n"
     ]
    }
   ],
   "source": [
    "a = 123\n",
    "b = str(a) + \"456\"\n",
    "print(b)"
   ]
  },
  {
   "cell_type": "markdown",
   "id": "13aae1e3-2117-42fd-a530-d99b14bc91cc",
   "metadata": {
    "jp-MarkdownHeadingCollapsed": true,
    "tags": []
   },
   "source": [
    "# リスト"
   ]
  },
  {
   "cell_type": "code",
   "execution_count": 27,
   "id": "9b03501d-2d65-421b-bf4e-da620a1cbdd9",
   "metadata": {
    "tags": []
   },
   "outputs": [
    {
     "name": "stdout",
     "output_type": "stream",
     "text": [
      "['suzuki', 'tanaka', 'takahasi']\n",
      "suzuki\n",
      "tanaka\n"
     ]
    }
   ],
   "source": [
    "a = ['suzuki', 'sato', 'takahasi']\n",
    "\n",
    "a[1] = 'tanaka'\n",
    "\n",
    "print(a)\n",
    "print(a[0])\n",
    "print(a[1])"
   ]
  },
  {
   "cell_type": "markdown",
   "id": "56920184-cc82-4e27-b0b6-73d462c66a2f",
   "metadata": {},
   "source": [
    "インデックス、０から始まる"
   ]
  },
  {
   "cell_type": "code",
   "execution_count": 28,
   "id": "98f70009-ff02-4fe0-82dc-030f693cfb25",
   "metadata": {
    "tags": []
   },
   "outputs": [
    {
     "name": "stdout",
     "output_type": "stream",
     "text": [
      "takahasi\n",
      "sato\n"
     ]
    }
   ],
   "source": [
    "# 末尾から数える\n",
    "a = ['suzuki', 'sato', 'takahasi']\n",
    "\n",
    "print(a[-1])\n",
    "print(a[-2])"
   ]
  },
  {
   "cell_type": "code",
   "execution_count": 29,
   "id": "e612b797-9f51-4de8-b174-b10870e61cdc",
   "metadata": {
    "tags": []
   },
   "outputs": [
    {
     "name": "stdout",
     "output_type": "stream",
     "text": [
      "[3, 4]\n",
      "[1, 2]\n",
      "[3, 4, 5]\n"
     ]
    }
   ],
   "source": [
    "# スライス\n",
    "a = [1, 2, 3, 4, 5]\n",
    "\n",
    "print(a[2:4])\n",
    "# 終了位置は含まれない\n",
    "print(a[:2])\n",
    "print(a[2:])"
   ]
  },
  {
   "cell_type": "code",
   "execution_count": 30,
   "id": "72c206b9-9151-4aa8-beae-f0bcd6b22d01",
   "metadata": {
    "tags": []
   },
   "outputs": [
    {
     "name": "stdout",
     "output_type": "stream",
     "text": [
      "[1, 3, 5]\n",
      "[5, 2]\n"
     ]
    }
   ],
   "source": [
    "# ステップ\n",
    "a = [1, 2, 3, 4, 5]\n",
    "print(a[::2])\n",
    "print(a[::-3])"
   ]
  },
  {
   "cell_type": "code",
   "execution_count": 31,
   "id": "bfd26879-aad4-429a-bc4a-b23e8d2c29ec",
   "metadata": {
    "tags": []
   },
   "outputs": [
    {
     "name": "stdout",
     "output_type": "stream",
     "text": [
      "sato\n",
      "tanaka\n"
     ]
    }
   ],
   "source": [
    "# リストのネスト\n",
    "a = [['suzuki', 'sato'],['takahasi', 'tanaka']]\n",
    "\n",
    "print(a[0][1])\n",
    "print(a[1][1])"
   ]
  },
  {
   "cell_type": "code",
   "execution_count": 32,
   "id": "0c735d5f-dd95-4bea-b225-4e5750e6dde6",
   "metadata": {
    "tags": []
   },
   "outputs": [
    {
     "name": "stdout",
     "output_type": "stream",
     "text": [
      "['suzuki', 'sato', 'takahasi', 'tanaka']\n"
     ]
    }
   ],
   "source": [
    "# リストの足し算\n",
    "a = ['suzuki', 'sato']\n",
    "a = a + ['takahasi', 'tanaka']\n",
    "\n",
    "print(a)"
   ]
  },
  {
   "cell_type": "code",
   "execution_count": 33,
   "id": "a6426877-65d5-4539-a69c-bd7da2b00722",
   "metadata": {
    "tags": []
   },
   "outputs": [
    {
     "name": "stdout",
     "output_type": "stream",
     "text": [
      "['suzuki', 'sato', 'suzuki', 'sato']\n"
     ]
    }
   ],
   "source": [
    "# 掛け算\n",
    "a = ['suzuki', 'sato']*2\n",
    "print(a)\n"
   ]
  },
  {
   "cell_type": "code",
   "execution_count": 1,
   "id": "79cf8030-d4f8-4621-929b-9f44a7ee2c81",
   "metadata": {
    "tags": []
   },
   "outputs": [
    {
     "name": "stdout",
     "output_type": "stream",
     "text": [
      "['suzuki', 'sato', 'takahasi', 'tanaka']\n"
     ]
    }
   ],
   "source": [
    "# 末尾に追加(append)\n",
    "a = ['suzuki', 'sato', 'takahasi']\n",
    "\n",
    "a.append('tanaka')\n",
    "\n",
    "print(a)"
   ]
  },
  {
   "cell_type": "code",
   "execution_count": 38,
   "id": "67212734-1643-4011-aec2-8a3bd336cd35",
   "metadata": {
    "tags": []
   },
   "outputs": [
    {
     "name": "stdout",
     "output_type": "stream",
     "text": [
      "['suzuki', 'sato', 'takahasi', ['nomura', 'osada']]\n"
     ]
    }
   ],
   "source": [
    "a = ['suzuki', 'sato', 'takahasi']\n",
    "\n",
    "a.append(['nomura','osada'])\n",
    "print(a)"
   ]
  },
  {
   "cell_type": "code",
   "execution_count": 40,
   "id": "9709f855-89ed-4b17-baf1-f162471da9cc",
   "metadata": {
    "tags": []
   },
   "outputs": [
    {
     "name": "stdout",
     "output_type": "stream",
     "text": [
      "['suzuki', 'sato', 'takahasi', 'nomura', 'osada']\n"
     ]
    }
   ],
   "source": [
    "# 末尾に要素として分解して追加（extend）\n",
    "a = ['suzuki', 'sato', 'takahasi']\n",
    "\n",
    "a.extend(['nomura','osada'])\n",
    "print(a)"
   ]
  },
  {
   "cell_type": "code",
   "execution_count": 41,
   "id": "7ec44420-b0e5-4bda-9d2f-090a2e13228b",
   "metadata": {
    "tags": []
   },
   "outputs": [
    {
     "name": "stdout",
     "output_type": "stream",
     "text": [
      "['suzuki', 'sato', 'takahasi', 'n', 'o', 'm', 'u', 'r', 'a']\n"
     ]
    }
   ],
   "source": [
    "a = ['suzuki', 'sato', 'takahasi']\n",
    "\n",
    "a.extend('nomura')\n",
    "print(a)"
   ]
  },
  {
   "cell_type": "code",
   "execution_count": 42,
   "id": "66bfa955-8ed8-4b3c-b9ab-9cb61a34cd05",
   "metadata": {
    "tags": []
   },
   "outputs": [
    {
     "name": "stdout",
     "output_type": "stream",
     "text": [
      "['tanaka', 'suzuki', 'sato', 'takahasi']\n"
     ]
    }
   ],
   "source": [
    "# リストの指定した位置に要素を追加（insert）\n",
    "a = ['suzuki', 'sato', 'takahasi']\n",
    "\n",
    "a.insert(0, 'tanaka')\n",
    "print(a)"
   ]
  },
  {
   "cell_type": "code",
   "execution_count": 43,
   "id": "e69de118-8de3-4a7a-b37f-584039198008",
   "metadata": {
    "tags": []
   },
   "outputs": [
    {
     "name": "stdout",
     "output_type": "stream",
     "text": [
      "['sato', 'takahasi']\n"
     ]
    }
   ],
   "source": [
    "# リストの要素を削除\n",
    "a = ['suzuki', 'sato', 'takahasi']\n",
    "\n",
    "del a[0]\n",
    "print(a)"
   ]
  },
  {
   "cell_type": "code",
   "execution_count": 2,
   "id": "4ae7d8d2-cc3b-4f32-9e1f-04d560af80e4",
   "metadata": {
    "tags": []
   },
   "outputs": [
    {
     "name": "stdout",
     "output_type": "stream",
     "text": [
      "suzuki\n",
      "['sato', 'takahasi']\n"
     ]
    }
   ],
   "source": [
    "# リストの要素の削除と表示(pop)\n",
    "a = ['suzuki', 'sato', 'takahasi']\n",
    "\n",
    "print(a.pop(0))\n",
    "print(a)"
   ]
  },
  {
   "cell_type": "code",
   "execution_count": 3,
   "id": "4f3b0995-a0f2-4514-9fac-cffbe878cb05",
   "metadata": {
    "tags": []
   },
   "outputs": [
    {
     "name": "stdout",
     "output_type": "stream",
     "text": [
      "takahasi\n",
      "['suzuki', 'sato']\n"
     ]
    }
   ],
   "source": [
    "# （）の中身をなくすと\n",
    "a = ['suzuki', 'sato', 'takahasi']\n",
    "\n",
    "print(a.pop())\n",
    "print(a)"
   ]
  },
  {
   "cell_type": "code",
   "execution_count": 5,
   "id": "742d4a89-422e-401c-95fd-8070a8052fc2",
   "metadata": {
    "tags": []
   },
   "outputs": [
    {
     "name": "stdout",
     "output_type": "stream",
     "text": [
      "['sato', 'takahasi', 'suzuki']\n"
     ]
    }
   ],
   "source": [
    "# リストの指定した要素の削除(remove)\n",
    "a = ['suzuki', 'sato', 'takahasi', 'suzuki']\n",
    "\n",
    "a.remove('suzuki')\n",
    "print(a)"
   ]
  },
  {
   "cell_type": "markdown",
   "id": "c5ccecd6-7e20-4f5d-80fe-687207ddfdd2",
   "metadata": {},
   "source": [
    "同じ要素が２つある場合には最初の一つのみ削除"
   ]
  },
  {
   "cell_type": "code",
   "execution_count": 7,
   "id": "3b1807c5-6263-4763-9f1f-38b6e10243df",
   "metadata": {
    "tags": []
   },
   "outputs": [
    {
     "name": "stdout",
     "output_type": "stream",
     "text": [
      "[]\n"
     ]
    }
   ],
   "source": [
    "# リストのすべての要素の削除(clear)\n",
    "a = ['suzuki', 'sato', 'takahasi']\n",
    "\n",
    "a.clear()\n",
    "print(a)"
   ]
  },
  {
   "cell_type": "code",
   "execution_count": 8,
   "id": "e3e29358-7da2-46bc-a568-2a898afb8532",
   "metadata": {
    "tags": []
   },
   "outputs": [
    {
     "name": "stdout",
     "output_type": "stream",
     "text": [
      "True\n",
      "False\n"
     ]
    }
   ],
   "source": [
    "# 要素の検索\n",
    "a = ['suzuki', 'sato', 'takahasi']\n",
    "\n",
    "print('suzuki' in a)\n",
    "print('nomura' in a)"
   ]
  },
  {
   "cell_type": "code",
   "execution_count": 9,
   "id": "670e3d73-c96e-4b1f-be11-426af761de4b",
   "metadata": {
    "tags": []
   },
   "outputs": [
    {
     "name": "stdout",
     "output_type": "stream",
     "text": [
      "2\n"
     ]
    }
   ],
   "source": [
    "# 指定した要素の個数の取得(count)\n",
    "a = ['suzuki', 'sato', 'takahasi', 'suzuki']\n",
    "\n",
    "print(a.count('suzuki'))"
   ]
  },
  {
   "cell_type": "code",
   "execution_count": 18,
   "id": "b9a489b9-9859-4fe3-91ff-16c7d1966470",
   "metadata": {
    "tags": []
   },
   "outputs": [
    {
     "name": "stdout",
     "output_type": "stream",
     "text": [
      "0\n"
     ]
    },
    {
     "ename": "ValueError",
     "evalue": "'tanaka' is not in list",
     "output_type": "error",
     "traceback": [
      "\u001b[0;31m---------------------------------------------------------------------------\u001b[0m",
      "\u001b[0;31mValueError\u001b[0m                                Traceback (most recent call last)",
      "Cell \u001b[0;32mIn[18], line 5\u001b[0m\n\u001b[1;32m      2\u001b[0m a \u001b[38;5;241m=\u001b[39m [\u001b[38;5;124m'\u001b[39m\u001b[38;5;124msuzuki\u001b[39m\u001b[38;5;124m'\u001b[39m, \u001b[38;5;124m'\u001b[39m\u001b[38;5;124msato\u001b[39m\u001b[38;5;124m'\u001b[39m, \u001b[38;5;124m'\u001b[39m\u001b[38;5;124mtakahasi\u001b[39m\u001b[38;5;124m'\u001b[39m]\n\u001b[1;32m      4\u001b[0m \u001b[38;5;28mprint\u001b[39m(a\u001b[38;5;241m.\u001b[39mindex(\u001b[38;5;124m'\u001b[39m\u001b[38;5;124msuzuki\u001b[39m\u001b[38;5;124m'\u001b[39m))\n\u001b[0;32m----> 5\u001b[0m \u001b[38;5;28mprint\u001b[39m(a\u001b[38;5;241m.\u001b[39mindex(\u001b[38;5;124m'\u001b[39m\u001b[38;5;124mtanaka\u001b[39m\u001b[38;5;124m'\u001b[39m))\n",
      "\u001b[0;31mValueError\u001b[0m: 'tanaka' is not in list"
     ]
    }
   ],
   "source": [
    "# 指定した要素のインデックスを調べる(index)\n",
    "a = ['suzuki', 'sato', 'takahasi']\n",
    "\n",
    "print(a.index('suzuki'))\n",
    "print(a.index('tanaka'))"
   ]
  },
  {
   "cell_type": "code",
   "execution_count": 15,
   "id": "96e3110e-adc7-4e42-87ce-47ad0585282e",
   "metadata": {
    "tags": []
   },
   "outputs": [
    {
     "name": "stdout",
     "output_type": "stream",
     "text": [
      "[2, 3, 5, 7, 9]\n"
     ]
    }
   ],
   "source": [
    "# リストの並び替え（sort)\n",
    "# 小さい順\n",
    "a = [7, 5, 9, 2, 3]\n",
    "\n",
    "a.sort()\n",
    "print(a)"
   ]
  },
  {
   "cell_type": "code",
   "execution_count": 17,
   "id": "b4f1661f-3ccc-414e-808d-d3b807a65b84",
   "metadata": {
    "tags": []
   },
   "outputs": [
    {
     "name": "stdout",
     "output_type": "stream",
     "text": [
      "[9, 7, 5, 3, 2]\n"
     ]
    }
   ],
   "source": [
    "# 大きい順\n",
    "a = [7, 5, 9, 2, 3]\n",
    "\n",
    "a.sort(reverse = True)\n",
    "print(a)"
   ]
  },
  {
   "cell_type": "code",
   "execution_count": 19,
   "id": "5aeaf106-af37-438d-acaa-2700f37f6419",
   "metadata": {
    "tags": []
   },
   "outputs": [
    {
     "name": "stdout",
     "output_type": "stream",
     "text": [
      "['takahasi', 'sato', 'suzuki']\n"
     ]
    }
   ],
   "source": [
    "# リストの並び順を逆にする（reverse)\n",
    "a = ['suzuki', 'sato', 'takahasi']\n",
    "\n",
    "a.reverse()\n",
    "print(a)"
   ]
  },
  {
   "cell_type": "code",
   "execution_count": 21,
   "id": "e71fb038-f48d-42b1-ab66-91ce77e90d0f",
   "metadata": {
    "tags": []
   },
   "outputs": [
    {
     "name": "stdout",
     "output_type": "stream",
     "text": [
      "9\n",
      "2\n"
     ]
    }
   ],
   "source": [
    "# リストの最大値と最小値を取得(max,min)\n",
    "a = [7, 5, 9, 2, 3]\n",
    "\n",
    "print(max(a))\n",
    "print(min(a))"
   ]
  },
  {
   "cell_type": "code",
   "execution_count": 22,
   "id": "157f1629-b75d-4d7a-8efa-bcafdd2e2e57",
   "metadata": {
    "tags": []
   },
   "outputs": [
    {
     "name": "stdout",
     "output_type": "stream",
     "text": [
      "2\n"
     ]
    }
   ],
   "source": [
    "# 応用\n",
    "a = [7, 5, 9, 2, 3]\n",
    "\n",
    "print(a.index(max(a)))"
   ]
  },
  {
   "cell_type": "code",
   "execution_count": 23,
   "id": "20a3b4ba-386c-45b7-a61e-ae21fb2e9119",
   "metadata": {
    "tags": []
   },
   "outputs": [
    {
     "name": "stdout",
     "output_type": "stream",
     "text": [
      "5\n"
     ]
    }
   ],
   "source": [
    "# リストの要素数を取得（len）\n",
    "a = [7, 5, 9, 2, 3]\n",
    "\n",
    "print(len(a))"
   ]
  },
  {
   "cell_type": "markdown",
   "id": "28e60639-7f4e-45a2-9a38-743c157c6a2f",
   "metadata": {
    "jp-MarkdownHeadingCollapsed": true,
    "tags": []
   },
   "source": [
    "# タプル"
   ]
  },
  {
   "cell_type": "markdown",
   "id": "09d66a3d-c18b-4cd1-9773-9a8c50a0a2db",
   "metadata": {},
   "source": [
    "要素の追加、変更、削除ができない\n",
    "メソッドもindexとcountのみ"
   ]
  },
  {
   "cell_type": "code",
   "execution_count": 24,
   "id": "64215d53-fb9f-45ee-be90-6ac9691b115e",
   "metadata": {
    "tags": []
   },
   "outputs": [
    {
     "name": "stdout",
     "output_type": "stream",
     "text": [
      "('suzuki', 'sato', 'takahasi')\n"
     ]
    }
   ],
   "source": [
    "# タプルの作りかた\n",
    "a = ('suzuki', 'sato', 'takahasi')\n",
    "\n",
    "print(a)\n"
   ]
  },
  {
   "cell_type": "code",
   "execution_count": 25,
   "id": "c8f37519-dddd-4640-9ff7-a48db35db276",
   "metadata": {
    "tags": []
   },
   "outputs": [
    {
     "name": "stdout",
     "output_type": "stream",
     "text": [
      "suzuki\n",
      "takahasi\n"
     ]
    }
   ],
   "source": [
    "# タプルへのアクセス\n",
    "a = ('suzuki', 'sato', 'takahasi')\n",
    "\n",
    "print(a[0])\n",
    "print(a[2])"
   ]
  },
  {
   "cell_type": "code",
   "execution_count": 26,
   "id": "268cebfc-9fb4-4919-b7e9-8e920953c82b",
   "metadata": {
    "tags": []
   },
   "outputs": [
    {
     "name": "stdout",
     "output_type": "stream",
     "text": [
      "(3, 4)\n",
      "(1, 2)\n",
      "(3, 4, 5)\n"
     ]
    }
   ],
   "source": [
    "# タプルのスライス\n",
    "a = (1, 2, 3, 4, 5)\n",
    "\n",
    "print(a[2:4])\n",
    "# 終了位置は含まれない（未満）\n",
    "print(a[:2])\n",
    "print(a[2:])"
   ]
  },
  {
   "cell_type": "markdown",
   "id": "2c324291-6664-46df-a08f-63467351cb3d",
   "metadata": {},
   "source": [
    "リストのところでも説明したのとほぼ同じ\n",
    "\n",
    "ステップ（：：のやつ）/ネスト/足し算・掛け算/index・count"
   ]
  },
  {
   "cell_type": "code",
   "execution_count": 28,
   "id": "c7484e94-6c96-46fc-90f0-58d54c01ca24",
   "metadata": {},
   "outputs": [
    {
     "name": "stdout",
     "output_type": "stream",
     "text": [
      "[2, 4, 5, 7, 8, 9]\n"
     ]
    }
   ],
   "source": [
    "# タプルの情報の取得\n",
    "# 要素の並び替え（sorted）\n",
    "a = (7, 4, 2, 8, 5, 9)\n",
    "\n",
    "a = sorted(a)\n",
    "print(a)"
   ]
  },
  {
   "cell_type": "code",
   "execution_count": 1,
   "id": "ef0d3924-a3d3-490d-a923-1dc6ff17ff94",
   "metadata": {
    "tags": []
   },
   "outputs": [
    {
     "name": "stdout",
     "output_type": "stream",
     "text": [
      "[9, 8, 7, 5, 4, 2]\n"
     ]
    }
   ],
   "source": [
    "# 降順\n",
    "a = (7, 4, 2, 8, 5, 9)\n",
    "\n",
    "a = sorted(a, reverse = True)\n",
    "print(a)"
   ]
  },
  {
   "cell_type": "code",
   "execution_count": 2,
   "id": "f44850fc-6219-4e25-959e-f05348f5839b",
   "metadata": {
    "tags": []
   },
   "outputs": [
    {
     "name": "stdout",
     "output_type": "stream",
     "text": [
      "(9, 6, 7, 3, 5)\n"
     ]
    }
   ],
   "source": [
    "# タプル型への変換（tuple）\n",
    "l = [9, 6, 7, 3, 5]\n",
    "a = tuple(l)\n",
    "\n",
    "print(a)"
   ]
  },
  {
   "cell_type": "code",
   "execution_count": 32,
   "id": "26df9ab4-d81c-48e8-aaaf-981fc9515327",
   "metadata": {
    "tags": []
   },
   "outputs": [
    {
     "name": "stdout",
     "output_type": "stream",
     "text": [
      "('n', 'o', 'm', 'u', 'r', 'a')\n"
     ]
    }
   ],
   "source": [
    "l = 'nomura'\n",
    "a = tuple(l)\n",
    "\n",
    "print(a)"
   ]
  },
  {
   "cell_type": "markdown",
   "id": "cfdb03d9-bfeb-4963-b405-0cf0ba58c2b7",
   "metadata": {
    "jp-MarkdownHeadingCollapsed": true,
    "tags": []
   },
   "source": [
    "# 辞書"
   ]
  },
  {
   "cell_type": "markdown",
   "id": "772e8021-c40c-450a-b2a9-942843207e0c",
   "metadata": {},
   "source": [
    "後から変更削除が可能。（ミュータブル）↔️イミュータブル\n",
    "\n",
    "keyとvalueから構成されている。\n",
    "\n",
    "どちらも数値・文字列を問わない。"
   ]
  },
  {
   "cell_type": "code",
   "execution_count": 3,
   "id": "74d74afe-58a1-4fe9-a90c-8ffe567dc549",
   "metadata": {
    "tags": []
   },
   "outputs": [
    {
     "name": "stdout",
     "output_type": "stream",
     "text": [
      "{'apple': 10, 'orange': 20, 'banana': 30}\n",
      "<class 'dict'>\n"
     ]
    }
   ],
   "source": [
    "d = {'apple':10, 'orange':20, 'banana':30}\n",
    "print(d)\n",
    "print(type(d))"
   ]
  },
  {
   "cell_type": "code",
   "execution_count": 6,
   "id": "a0a6fedc-c97c-43df-ba59-0cbbc90ef689",
   "metadata": {
    "tags": []
   },
   "outputs": [
    {
     "name": "stdout",
     "output_type": "stream",
     "text": [
      "{'apple': 10, 'orange': 20, 'banana': 30}\n"
     ]
    }
   ],
   "source": [
    "# dict関数\n",
    "d = dict(apple = 10, orange = 20, banana = 30)\n",
    "print(d)\n",
    "# ''で囲む必要はない"
   ]
  },
  {
   "cell_type": "code",
   "execution_count": 8,
   "id": "4bcd66ca-1f33-4e1d-89e1-59a18b003983",
   "metadata": {
    "tags": []
   },
   "outputs": [
    {
     "name": "stdout",
     "output_type": "stream",
     "text": [
      "{'apple': 10, 'orange': 20, 'banana': 30}\n"
     ]
    }
   ],
   "source": [
    "d = dict([['apple',10],['orange',20],['banana',30]])\n",
    "print(d)\n",
    "# このときは''で囲む"
   ]
  },
  {
   "cell_type": "code",
   "execution_count": 10,
   "id": "f8eef622-ae5c-426e-b6d2-eb9475ca328c",
   "metadata": {
    "tags": []
   },
   "outputs": [
    {
     "name": "stdout",
     "output_type": "stream",
     "text": [
      "{'apple': 40, 'orange': 20, 'banana': 30}\n"
     ]
    }
   ],
   "source": [
    "# 一つのkeyに一つのvalueの原則（valueは一意である必要はない）\n",
    "d = {'apple':10, 'orange':20, 'banana':30, 'apple':40}\n",
    "print(d)"
   ]
  },
  {
   "cell_type": "code",
   "execution_count": 12,
   "id": "66b9ece0-215a-4db2-95e7-5b21127266d5",
   "metadata": {
    "tags": []
   },
   "outputs": [
    {
     "name": "stdout",
     "output_type": "stream",
     "text": [
      "dict_keys(['apple', 'orange', 'banana'])\n"
     ]
    }
   ],
   "source": [
    "# keyの一覧の取得\n",
    "d = {'apple':10,'orange':20,'banana':30}\n",
    "print(d.keys())"
   ]
  },
  {
   "cell_type": "code",
   "execution_count": 13,
   "id": "5958f4d8-3fd1-486a-9c73-8bc87be73250",
   "metadata": {
    "tags": []
   },
   "outputs": [
    {
     "name": "stdout",
     "output_type": "stream",
     "text": [
      "dict_values([10, 20, 30])\n"
     ]
    }
   ],
   "source": [
    "# valuesの一覧の取得\n",
    "d = {'apple':10,'orange':20,'banana':30}\n",
    "print(d.values())"
   ]
  },
  {
   "cell_type": "code",
   "execution_count": 3,
   "id": "190fac37-7407-4562-9948-aa658063b79d",
   "metadata": {
    "tags": []
   },
   "outputs": [
    {
     "name": "stdout",
     "output_type": "stream",
     "text": [
      "10\n"
     ]
    }
   ],
   "source": [
    "# 個別の要素にアクセス（インデックスは存在しない）\n",
    "d = {'apple':10,'orange':20,'banana':30}\n",
    "print(d['apple'])"
   ]
  },
  {
   "cell_type": "code",
   "execution_count": 15,
   "id": "b9bfa894-e3b5-4287-887b-8d0f087d7342",
   "metadata": {
    "tags": []
   },
   "outputs": [
    {
     "name": "stdout",
     "output_type": "stream",
     "text": [
      "{'apple': 100, 'orange': 20, 'banana': 30}\n"
     ]
    }
   ],
   "source": [
    "# valueの書き換え\n",
    "d = {'apple':10,'orange':20,'banana':30}\n",
    "d['apple'] = 100\n",
    "print(d)"
   ]
  },
  {
   "cell_type": "code",
   "execution_count": 16,
   "id": "db49620b-8649-4acc-9fa5-e4f28bc0a1ef",
   "metadata": {
    "tags": []
   },
   "outputs": [
    {
     "name": "stdout",
     "output_type": "stream",
     "text": [
      "{'apple': 10, 'orange': 20, 'banana': 30, 'peach': 40}\n"
     ]
    }
   ],
   "source": [
    "# 要素の追加\n",
    "d = {'apple':10,'orange':20,'banana':30}\n",
    "d['peach'] = 40\n",
    "print(d)"
   ]
  },
  {
   "cell_type": "code",
   "execution_count": 21,
   "id": "39bd955e-c162-453c-94ca-99e99c2caeb1",
   "metadata": {
    "tags": []
   },
   "outputs": [
    {
     "name": "stdout",
     "output_type": "stream",
     "text": [
      "{'apple': 10, 'orange': 20, 'banana': 30, 'peach': 40, 'cake': 100}\n"
     ]
    }
   ],
   "source": [
    "# 辞書の更新（update）\n",
    "d1 = {'apple':10,'orange':20,'banana':30}\n",
    "d2 = {'peach':40, 'cake' :100}\n",
    "d1.update(d2)\n",
    "print(d1)"
   ]
  },
  {
   "cell_type": "code",
   "execution_count": 22,
   "id": "6bd6dc71-f0f3-44ec-9ef5-5e8b5b619cf3",
   "metadata": {
    "tags": []
   },
   "outputs": [
    {
     "name": "stdout",
     "output_type": "stream",
     "text": [
      "{'apple': 10, 'orange': 20}\n"
     ]
    }
   ],
   "source": [
    "# 要素の削除\n",
    "d = {'apple':10,'orange':20,'banana':30}\n",
    "del d['banana']\n",
    "print(d)"
   ]
  },
  {
   "cell_type": "code",
   "execution_count": 23,
   "id": "20e93108-b733-4e57-896b-0da278e57ddc",
   "metadata": {
    "tags": []
   },
   "outputs": [
    {
     "name": "stdout",
     "output_type": "stream",
     "text": [
      "{'apple': 10}\n"
     ]
    }
   ],
   "source": [
    "d = {'apple':10,'orange':20,'banana':30}\n",
    "del d['banana'], d['orange']\n",
    "print(d)"
   ]
  },
  {
   "cell_type": "code",
   "execution_count": 25,
   "id": "d254f042-b586-42cb-a6e3-3a3c397fa926",
   "metadata": {
    "tags": []
   },
   "outputs": [
    {
     "name": "stdout",
     "output_type": "stream",
     "text": [
      "30\n",
      "{'apple': 10, 'orange': 20}\n"
     ]
    }
   ],
   "source": [
    "# popメソッドによる削除\n",
    "d = {'apple':10,'orange':20,'banana':30}\n",
    "print(d.pop('banana'))\n",
    "print(d)"
   ]
  },
  {
   "cell_type": "code",
   "execution_count": 28,
   "id": "ab91b288-edaa-483e-ad60-8735f38c86c5",
   "metadata": {
    "tags": []
   },
   "outputs": [
    {
     "name": "stdout",
     "output_type": "stream",
     "text": [
      "{}\n"
     ]
    }
   ],
   "source": [
    "# データの全削除\n",
    "d = {'apple':10,'orange':20,'banana':30}\n",
    "d.clear()\n",
    "print(d)"
   ]
  },
  {
   "cell_type": "code",
   "execution_count": 29,
   "id": "eb8a75e8-8851-4baf-b707-6cea31e0d24e",
   "metadata": {
    "tags": []
   },
   "outputs": [
    {
     "name": "stdout",
     "output_type": "stream",
     "text": [
      "True\n",
      "{'apple': 10, 'orange': 20, 'banana': 30}\n"
     ]
    }
   ],
   "source": [
    "# 要素を検索(in)\n",
    "d = {'apple':10,'orange':20,'banana':30}\n",
    "print('apple' in d)\n",
    "print(d)"
   ]
  },
  {
   "cell_type": "code",
   "execution_count": 32,
   "id": "64115d60-1ea6-4b65-b41c-90771a20ecfe",
   "metadata": {
    "tags": []
   },
   "outputs": [
    {
     "name": "stdout",
     "output_type": "stream",
     "text": [
      "True\n"
     ]
    }
   ],
   "source": [
    "d = {'apple':10,'orange':20,'banana':30}\n",
    "x = 'apple'\n",
    "print(x in d)"
   ]
  },
  {
   "cell_type": "markdown",
   "id": "663c28de-9e14-4baf-b271-0a43f4b9d113",
   "metadata": {
    "jp-MarkdownHeadingCollapsed": true,
    "tags": []
   },
   "source": [
    "# 集合"
   ]
  },
  {
   "cell_type": "markdown",
   "id": "d19a8d9a-a6a1-4ab4-b3bd-5950e1ed8b53",
   "metadata": {},
   "source": [
    "要素に順番がない\n",
    "重複に意味がない（勝手に削除される）"
   ]
  },
  {
   "cell_type": "code",
   "execution_count": 33,
   "id": "753ec8cc-e474-4b86-bbc2-f35f911c1dd0",
   "metadata": {
    "tags": []
   },
   "outputs": [
    {
     "name": "stdout",
     "output_type": "stream",
     "text": [
      "{0, 2, 4, 5, 6}\n"
     ]
    }
   ],
   "source": [
    "s = {0, 2, 5, 4, 6, 6, 2}\n",
    "\n",
    "print(s)"
   ]
  },
  {
   "cell_type": "code",
   "execution_count": 34,
   "id": "80828f98-16ce-4195-a7cf-7c523a0d43c3",
   "metadata": {
    "tags": []
   },
   "outputs": [
    {
     "name": "stdout",
     "output_type": "stream",
     "text": [
      "{1.23, 123, (1, 2, 3)}\n"
     ]
    }
   ],
   "source": [
    "s = {123, 1.23, (1, 2, 3), 123, 1.23}\n",
    "\n",
    "print(s)"
   ]
  },
  {
   "cell_type": "code",
   "execution_count": 35,
   "id": "dad79615-3a36-4841-878a-7230dffe62fd",
   "metadata": {
    "tags": []
   },
   "outputs": [
    {
     "ename": "TypeError",
     "evalue": "unhashable type: 'list'",
     "output_type": "error",
     "traceback": [
      "\u001b[0;31m---------------------------------------------------------------------------\u001b[0m",
      "\u001b[0;31mTypeError\u001b[0m                                 Traceback (most recent call last)",
      "Cell \u001b[0;32mIn[35], line 2\u001b[0m\n\u001b[1;32m      1\u001b[0m \u001b[38;5;66;03m# ミュータブルなオブジェクトは含むことができない\u001b[39;00m\n\u001b[0;32m----> 2\u001b[0m s \u001b[38;5;241m=\u001b[39m {\u001b[38;5;241m123\u001b[39m, \u001b[38;5;241m1.23\u001b[39m, [\u001b[38;5;241m1\u001b[39m, \u001b[38;5;241m2\u001b[39m, \u001b[38;5;241m3\u001b[39m], \u001b[38;5;241m123\u001b[39m, \u001b[38;5;241m1.23\u001b[39m}\n\u001b[1;32m      4\u001b[0m \u001b[38;5;28mprint\u001b[39m(s)\n",
      "\u001b[0;31mTypeError\u001b[0m: unhashable type: 'list'"
     ]
    }
   ],
   "source": [
    "# ミュータブルなオブジェクトは含むことができない\n",
    "s = {123, 1.23, [1, 2, 3], 123, 1.23}\n",
    "\n",
    "print(s)"
   ]
  },
  {
   "cell_type": "code",
   "execution_count": 36,
   "id": "3cb6033e-cf97-408c-9721-7fd26d5e5eaa",
   "metadata": {
    "tags": []
   },
   "outputs": [
    {
     "name": "stdout",
     "output_type": "stream",
     "text": [
      "{0, 2, 4, 5, 6}\n"
     ]
    }
   ],
   "source": [
    "# set関数\n",
    "a = [0, 2, 5, 4, 6, 6, 2]\n",
    "s = set(a)\n",
    "print(s)"
   ]
  },
  {
   "cell_type": "code",
   "execution_count": 37,
   "id": "77082468-e3da-423f-b539-02a79149aa34",
   "metadata": {
    "tags": []
   },
   "outputs": [
    {
     "name": "stdout",
     "output_type": "stream",
     "text": [
      "<class 'set'>\n",
      "<class 'dict'>\n"
     ]
    }
   ],
   "source": [
    "# 空集合の作り方\n",
    "s1 = set()\n",
    "s2 = {}\n",
    "\n",
    "print(type(s1))\n",
    "print(type(s2))"
   ]
  },
  {
   "cell_type": "markdown",
   "id": "ad8baf16-231c-4311-b0f8-943d596bf82c",
   "metadata": {
    "tags": []
   },
   "source": [
    "要素の追加、削除や要素の確認（in）は通常と同じ"
   ]
  },
  {
   "cell_type": "code",
   "execution_count": 40,
   "id": "1fb344c2-cf64-4560-862a-0c13d25d45e0",
   "metadata": {
    "tags": []
   },
   "outputs": [
    {
     "name": "stdout",
     "output_type": "stream",
     "text": [
      "frozenset({0, 1, 2, 3})\n"
     ]
    }
   ],
   "source": [
    "# 要素の変更ができない集合（frozenset）\n",
    "a = [0,1,2,3]\n",
    "s = frozenset(a)\n",
    "print(s)"
   ]
  },
  {
   "cell_type": "code",
   "execution_count": 41,
   "id": "115ac2da-4334-4d71-813e-4d1c54500c3b",
   "metadata": {
    "tags": []
   },
   "outputs": [
    {
     "name": "stdout",
     "output_type": "stream",
     "text": [
      "{0, 1, 2, 3, 4, 5}\n",
      "{0, 1, 2, 3, 4, 5}\n"
     ]
    }
   ],
   "source": [
    "# 和集合（|かunion）\n",
    "s1 = {0, 1, 2}\n",
    "s2 = {3, 4, 5}\n",
    "\n",
    "s3 = s1 | s2\n",
    "print(s3)\n",
    "\n",
    "s4 = s1.union(s2)\n",
    "print(s4)"
   ]
  },
  {
   "cell_type": "code",
   "execution_count": 42,
   "id": "e925f600-6ffc-4759-acf5-723807387257",
   "metadata": {
    "tags": []
   },
   "outputs": [
    {
     "name": "stdout",
     "output_type": "stream",
     "text": [
      "{2}\n",
      "{2}\n"
     ]
    }
   ],
   "source": [
    "# 積集合（＆かintersection）\n",
    "s1 = {0, 1, 2}\n",
    "s2 = {2, 3, 4}\n",
    "\n",
    "s3 = s1 & s2\n",
    "print(s3)\n",
    "\n",
    "s4 = s1.intersection(s2)\n",
    "print(s4)"
   ]
  },
  {
   "cell_type": "code",
   "execution_count": 43,
   "id": "8095c41d-5872-4e64-9821-3b07e2aad53a",
   "metadata": {
    "tags": []
   },
   "outputs": [
    {
     "name": "stdout",
     "output_type": "stream",
     "text": [
      "{0}\n",
      "{0}\n"
     ]
    }
   ],
   "source": [
    "# 差集合（-かdefference）\n",
    "s1 = {0, 1, 2}\n",
    "s2 = {1, 2, 3}\n",
    "\n",
    "s3 = s1 - s2\n",
    "print(s3)\n",
    "\n",
    "s4 = s1.difference(s2)\n",
    "print(s4)"
   ]
  },
  {
   "cell_type": "code",
   "execution_count": 44,
   "id": "ecb5af97-88ce-40b0-86dd-ee9abf2f2474",
   "metadata": {
    "tags": []
   },
   "outputs": [
    {
     "name": "stdout",
     "output_type": "stream",
     "text": [
      "{0, 3}\n",
      "{0, 3}\n"
     ]
    }
   ],
   "source": [
    "# 対称差集合（^かsymmetric_defference）\n",
    "s1 = {0, 1, 2}\n",
    "s2 = {1, 2, 3}\n",
    "\n",
    "s3 = s1 ^ s2\n",
    "print(s3)\n",
    "\n",
    "s4 = s1.symmetric_difference(s2)\n",
    "print(s4)"
   ]
  },
  {
   "cell_type": "code",
   "execution_count": 45,
   "id": "817f0062-1bec-48f1-afdf-1cc81b77146e",
   "metadata": {
    "tags": []
   },
   "outputs": [
    {
     "name": "stdout",
     "output_type": "stream",
     "text": [
      "True\n",
      "True\n"
     ]
    }
   ],
   "source": [
    "# 部分集合（<=かissubset）\n",
    "s1 = {0, 1, 2}\n",
    "s2 = {0, 1, 2, 3, 4}\n",
    "\n",
    "print(s1 <= s2)\n",
    "\n",
    "print(s1.issubset(s2))"
   ]
  },
  {
   "cell_type": "code",
   "execution_count": 46,
   "id": "a9e7b31d-9d37-413e-8e3b-5fd8bb0a0a54",
   "metadata": {
    "tags": []
   },
   "outputs": [
    {
     "name": "stdout",
     "output_type": "stream",
     "text": [
      "True\n"
     ]
    }
   ],
   "source": [
    "# 等集合（==）\n",
    "s1 = {0, 1, 2}\n",
    "s2 = {0, 1, 2}\n",
    "\n",
    "print(s1 == s2)"
   ]
  },
  {
   "cell_type": "code",
   "execution_count": 48,
   "id": "641fb530-1f45-43f9-8ddb-dc035eee580d",
   "metadata": {
    "tags": []
   },
   "outputs": [
    {
     "name": "stdout",
     "output_type": "stream",
     "text": [
      "True\n"
     ]
    }
   ],
   "source": [
    "# 真部分集合（<）、同じではない\n",
    "s1 = {0, 1, 2}\n",
    "s2 = {0, 1, 2, 3, 4}\n",
    "\n",
    "print(s1 < s2)"
   ]
  },
  {
   "cell_type": "code",
   "execution_count": 49,
   "id": "9a155075-8338-414b-a9af-ab770014a75d",
   "metadata": {
    "tags": []
   },
   "outputs": [
    {
     "name": "stdout",
     "output_type": "stream",
     "text": [
      "True\n"
     ]
    }
   ],
   "source": [
    "# 互いに素（isdisjoint）\n",
    "s1 = {0, 1, 2}\n",
    "s2 = {3, 4, 5}\n",
    "\n",
    "print(s1.isdisjoint(s2))"
   ]
  },
  {
   "cell_type": "code",
   "execution_count": 53,
   "id": "8e041e1d-2735-407e-a31f-662f81684450",
   "metadata": {
    "tags": []
   },
   "outputs": [
    {
     "name": "stdout",
     "output_type": "stream",
     "text": [
      "1\n",
      "2\n",
      "3\n",
      "4\n"
     ]
    }
   ],
   "source": [
    "# 要素の取得（for in ）\n",
    "s = {4, 3, 2, 1}\n",
    "\n",
    "for i in s:\n",
    "    print(i)"
   ]
  },
  {
   "cell_type": "markdown",
   "id": "a65064e2-d0e6-49e0-b232-c6edac006c1d",
   "metadata": {},
   "source": [
    "集合においてインデックスは使用できない。"
   ]
  },
  {
   "cell_type": "code",
   "execution_count": 54,
   "id": "c0cd4b6b-74f7-46e0-9952-fad0e357ddc1",
   "metadata": {
    "tags": []
   },
   "outputs": [
    {
     "name": "stdout",
     "output_type": "stream",
     "text": [
      "1\n"
     ]
    }
   ],
   "source": [
    "# リストに変換して要素を取り出す\n",
    "s = {4, 3, 2, 1}\n",
    "l = list(s)\n",
    "\n",
    "print(l[0])"
   ]
  },
  {
   "cell_type": "markdown",
   "id": "3cf01a46-c155-43f0-89a0-6a2cf905df42",
   "metadata": {
    "jp-MarkdownHeadingCollapsed": true,
    "tags": []
   },
   "source": [
    "# 演算子"
   ]
  },
  {
   "cell_type": "code",
   "execution_count": 56,
   "id": "2df1ff7a-9ea5-4cad-8002-d13c536e5b7b",
   "metadata": {
    "tags": []
   },
   "outputs": [
    {
     "name": "stdout",
     "output_type": "stream",
     "text": [
      "13\n",
      "7\n",
      "30\n",
      "3.3333333333333335\n",
      "1\n",
      "3\n"
     ]
    }
   ],
   "source": [
    "# 算術演算子\n",
    "x = 10\n",
    "y = 3\n",
    "\n",
    "print(x + y)\n",
    "print(x - y)\n",
    "print(x * y)\n",
    "print(x / y)\n",
    "print(x % y)\n",
    "# あまり\n",
    "print(x // y)\n",
    "# 商"
   ]
  },
  {
   "cell_type": "code",
   "execution_count": 57,
   "id": "555e4551-d705-4663-968d-aa7f24ca7765",
   "metadata": {
    "tags": []
   },
   "outputs": [
    {
     "name": "stdout",
     "output_type": "stream",
     "text": [
      "True\n"
     ]
    }
   ],
   "source": [
    "# 関係演算子\n",
    "x = 10\n",
    "y = 3\n",
    "\n",
    "print(x > y)"
   ]
  },
  {
   "cell_type": "code",
   "execution_count": 59,
   "id": "eae708dd-17d8-4973-9580-bd82ae6a510d",
   "metadata": {
    "tags": []
   },
   "outputs": [
    {
     "name": "stdout",
     "output_type": "stream",
     "text": [
      "False\n",
      "True\n"
     ]
    }
   ],
   "source": [
    "# 等価\n",
    "x = 10\n",
    "y = 3\n",
    "\n",
    "print(x == y)\n",
    "print(x != y)\n",
    "# ではない"
   ]
  },
  {
   "cell_type": "code",
   "execution_count": 61,
   "id": "b3eef58d-7a65-423d-a5e2-5a141e7f552a",
   "metadata": {
    "tags": []
   },
   "outputs": [
    {
     "name": "stdout",
     "output_type": "stream",
     "text": [
      "True\n",
      "True\n"
     ]
    }
   ],
   "source": [
    "# 論理演算子（かつand、またはor）\n",
    "x = 10\n",
    "y = 3\n",
    "\n",
    "print(x > y and x == 10)\n",
    "print(x == 3 or y > 0)"
   ]
  },
  {
   "cell_type": "code",
   "execution_count": 64,
   "id": "e8763a7d-7804-46f3-b896-3e4527dd8631",
   "metadata": {
    "tags": []
   },
   "outputs": [
    {
     "name": "stdout",
     "output_type": "stream",
     "text": [
      "20\n",
      "17\n"
     ]
    }
   ],
   "source": [
    "# 代入演算子、複合代入演算子(+=,-=)\n",
    "x = 10\n",
    "y = 3\n",
    "z = 20\n",
    "\n",
    "x += 10\n",
    "z -= y\n",
    "print(x)\n",
    "print(z)"
   ]
  },
  {
   "cell_type": "code",
   "execution_count": 67,
   "id": "c127be17-2844-45ac-b255-b51a7cb8fc73",
   "metadata": {
    "tags": []
   },
   "outputs": [
    {
     "name": "stdout",
     "output_type": "stream",
     "text": [
      "l1==l2 True\n",
      "l1 is l2 False\n",
      "l1==l3 True\n",
      "l1 is l3 True\n",
      "4609472704\n",
      "4612407744\n",
      "4609472704\n"
     ]
    }
   ],
   "source": [
    "# is演算子（オブジェクトが同じかどうか）\n",
    "l1 = [1, 2, 3]\n",
    "l2 = [1, 2, 3]\n",
    "l3 = l1\n",
    "\n",
    "print('l1==l2', l1 == l2)\n",
    "print('l1 is l2', l1 is l2)\n",
    "print('l1==l3', l1 == l3)\n",
    "print('l1 is l3', l1 is l3)\n",
    "\n",
    "print(id(l1))\n",
    "print(id(l2))\n",
    "print(id(l3))"
   ]
  },
  {
   "cell_type": "markdown",
   "id": "f75a5a10-baa3-4aa4-b3f7-364f854648c8",
   "metadata": {},
   "source": [
    "listは要素を変更してもidは変わらない"
   ]
  },
  {
   "cell_type": "code",
   "execution_count": null,
   "id": "71012d5b-76ce-4986-b45e-b6a7ca4c827e",
   "metadata": {},
   "outputs": [],
   "source": [
    "# is not演算子（isの逆）"
   ]
  },
  {
   "cell_type": "code",
   "execution_count": null,
   "id": "d75441c3-c4e4-4a98-abcb-758becbb1971",
   "metadata": {},
   "outputs": [],
   "source": [
    "# in演算子"
   ]
  },
  {
   "cell_type": "code",
   "execution_count": null,
   "id": "308cb6ff-5a0d-44d5-b494-2ba3a23fb7d4",
   "metadata": {},
   "outputs": [],
   "source": [
    "# not in演算子"
   ]
  },
  {
   "cell_type": "code",
   "execution_count": 68,
   "id": "b90a1994-590c-4979-ac72-1ad70eadac6e",
   "metadata": {
    "tags": []
   },
   "outputs": [
    {
     "name": "stdout",
     "output_type": "stream",
     "text": [
      "2\n",
      "8\n",
      "10\n"
     ]
    }
   ],
   "source": [
    "# ビット演算子\n",
    "print(0b10)\n",
    "print(0b1000)\n",
    "print(0b1010)"
   ]
  },
  {
   "cell_type": "code",
   "execution_count": 1,
   "id": "6c41e50f-5b45-4941-8e96-4e3795e84aa3",
   "metadata": {
    "tags": []
   },
   "outputs": [
    {
     "name": "stdout",
     "output_type": "stream",
     "text": [
      "0b10\n",
      "0b1000\n",
      "0b1010\n"
     ]
    }
   ],
   "source": [
    "# bin\n",
    "print(bin(2))\n",
    "print(bin(8))\n",
    "print(bin(10))"
   ]
  },
  {
   "cell_type": "markdown",
   "id": "ed8f80b7-5891-4ad9-b0a5-8e09b6707057",
   "metadata": {
    "jp-MarkdownHeadingCollapsed": true,
    "tags": []
   },
   "source": [
    "# if文"
   ]
  },
  {
   "cell_type": "code",
   "execution_count": 71,
   "id": "f3b2dfb4-9b15-47b3-9d92-903037f71e2d",
   "metadata": {
    "tags": []
   },
   "outputs": [
    {
     "name": "stdout",
     "output_type": "stream",
     "text": [
      "child\n"
     ]
    }
   ],
   "source": [
    "# 条件分岐\n",
    "age = 18\n",
    "\n",
    "if age >=20:\n",
    "    print('adalut')\n",
    "elif age == 0:\n",
    "    print('baby')\n",
    "else:\n",
    "    print('child')"
   ]
  },
  {
   "cell_type": "code",
   "execution_count": null,
   "id": "4be24d03-8bbf-4701-b2ee-3439e0f8ded0",
   "metadata": {
    "tags": []
   },
   "outputs": [],
   "source": [
    "# 演算子を使った条件分岐\n",
    "number = 24\n",
    "\n",
    "if number % 2 == 0 and\\\n",
    "    number % 3 == 0:\n",
    "    print('multiple of 6')\n",
    "elif (number % 2 == 0 and\n",
    "      number % 3 != 0):\n",
    "    print('multiple of 2')\n",
    "elif number % 2 != 0 and number % 3 == 0:\n",
    "    print('multiple of 3')\n",
    "else:\n",
    "    print('no multiple of 2 and 3')"
   ]
  },
  {
   "cell_type": "markdown",
   "id": "60495179-2221-4e95-891e-0d0c5cd598ed",
   "metadata": {},
   "source": [
    "演算子は「算術演算子→関係演算子→論理演算子」の順番に処理される。"
   ]
  },
  {
   "cell_type": "markdown",
   "id": "153e1f7d-dd20-4b89-af1d-4189b1105e88",
   "metadata": {},
   "source": [
    "バックスラッシュ\\か（）で条件文の改行ができる。"
   ]
  },
  {
   "cell_type": "code",
   "execution_count": 78,
   "id": "605a75ba-b903-42af-909b-ef5c45ee3037",
   "metadata": {
    "tags": []
   },
   "outputs": [
    {
     "name": "stdout",
     "output_type": "stream",
     "text": [
      "other fruit\n"
     ]
    }
   ],
   "source": [
    "# match文\n",
    "fruit = 'nomura'\n",
    "\n",
    "match fruit:\n",
    "    case 'orange':\n",
    "        print('orange')\n",
    "    case 'apple':\n",
    "        print('apple')\n",
    "    case _:\n",
    "        print('other fruit')\n",
    "    "
   ]
  },
  {
   "cell_type": "code",
   "execution_count": 79,
   "id": "63c2d707-a9cb-4025-9e2e-cb1886585b28",
   "metadata": {
    "tags": []
   },
   "outputs": [],
   "source": [
    "# pass（何もしないという意味、可読性を上げるために使用）\n",
    "age = 18\n",
    "\n",
    "if age >=20:\n",
    "    print('adalut')\n",
    "elif age == 0:\n",
    "    print('baby')\n",
    "else:\n",
    "    pass"
   ]
  },
  {
   "cell_type": "code",
   "execution_count": 80,
   "id": "d33f0e9c-9d75-4abc-8ac5-a0a4b257bbc0",
   "metadata": {
    "tags": []
   },
   "outputs": [
    {
     "name": "stdout",
     "output_type": "stream",
     "text": [
      "child\n"
     ]
    }
   ],
   "source": [
    "# 三項条件式（短い条件文などで使用）\n",
    "age = 18\n",
    "print('adult' if age >= 20 else 'child')"
   ]
  },
  {
   "cell_type": "markdown",
   "id": "88922237-a1c3-4b22-b226-ed597ab164d4",
   "metadata": {
    "jp-MarkdownHeadingCollapsed": true,
    "tags": []
   },
   "source": [
    "# 繰り返し"
   ]
  },
  {
   "cell_type": "code",
   "execution_count": 3,
   "id": "9763924e-6702-41d3-b014-f0e164b74151",
   "metadata": {
    "tags": []
   },
   "outputs": [
    {
     "name": "stdout",
     "output_type": "stream",
     "text": [
      "0\n",
      "1\n",
      "2\n",
      "3\n",
      "4\n"
     ]
    }
   ],
   "source": [
    "for i in range(5):\n",
    "    print(i)"
   ]
  },
  {
   "cell_type": "markdown",
   "id": "3b1c2155-a877-4757-b06f-0530918d25c2",
   "metadata": {},
   "source": [
    "for i（カウンタ変数） in 複数の要素をもつオブジェクト"
   ]
  },
  {
   "cell_type": "code",
   "execution_count": 5,
   "id": "a174eb48-307d-40fb-9745-866f3150d2ab",
   "metadata": {
    "tags": []
   },
   "outputs": [
    {
     "name": "stdout",
     "output_type": "stream",
     "text": [
      "0\n",
      "1\n",
      "2\n"
     ]
    }
   ],
   "source": [
    "# 繰り返し処理の終了（break）\n",
    "for i in range(5):\n",
    "    if i == 3:\n",
    "        break\n",
    "    print(i)"
   ]
  },
  {
   "cell_type": "code",
   "execution_count": 7,
   "id": "e2dd9795-9b2a-464d-8a2d-ac524cf1cf54",
   "metadata": {
    "tags": []
   },
   "outputs": [
    {
     "name": "stdout",
     "output_type": "stream",
     "text": [
      "0\n",
      "1\n",
      "2\n",
      "4\n"
     ]
    }
   ],
   "source": [
    "# 処理をスキップ（continue）\n",
    "for i in range(5):\n",
    "    if i == 3:\n",
    "        continue\n",
    "    print(i)"
   ]
  },
  {
   "cell_type": "code",
   "execution_count": 8,
   "id": "5a8df4a8-0b6f-4be7-9ec9-4793b3adccef",
   "metadata": {
    "tags": []
   },
   "outputs": [
    {
     "name": "stdout",
     "output_type": "stream",
     "text": [
      "0-0\n",
      "0-1\n",
      "0-2\n",
      "1-0\n",
      "1-1\n",
      "1-2\n",
      "2-0\n",
      "2-1\n",
      "2-2\n"
     ]
    }
   ],
   "source": [
    "# for文のネスト\n",
    "for i in range(3):\n",
    "    for j in range(3):\n",
    "        print(i, j, sep = '-')"
   ]
  },
  {
   "cell_type": "code",
   "execution_count": 10,
   "id": "1dda538d-03f1-4e90-b18f-ad75f3e166e2",
   "metadata": {
    "tags": []
   },
   "outputs": [
    {
     "name": "stdout",
     "output_type": "stream",
     "text": [
      "2\n",
      "6\n",
      "12\n",
      "20\n",
      "30\n"
     ]
    }
   ],
   "source": [
    "# 例\n",
    "arr = [2, 4, 6, 8, 10]\n",
    "sum = 0\n",
    "for i in arr:\n",
    "    sum += i\n",
    "    print(sum)\n",
    "       "
   ]
  },
  {
   "cell_type": "code",
   "execution_count": 13,
   "id": "f067bc46-cff0-4257-a3ed-cc6aff34beb1",
   "metadata": {
    "tags": []
   },
   "outputs": [
    {
     "name": "stdout",
     "output_type": "stream",
     "text": [
      "1\n",
      "2\n",
      "3\n",
      "4\n",
      "5\n"
     ]
    }
   ],
   "source": [
    "# while文（繰り返す条件を指定）\n",
    "i = 0\n",
    "while i < 5:\n",
    "    i += 1\n",
    "    print(i)"
   ]
  },
  {
   "cell_type": "code",
   "execution_count": 15,
   "id": "be7c1e1c-cc00-4f58-ba7a-f13186777cb1",
   "metadata": {
    "tags": []
   },
   "outputs": [
    {
     "name": "stdout",
     "output_type": "stream",
     "text": [
      "2\n",
      "4\n",
      "8\n",
      "16\n",
      "32\n",
      "64\n",
      "128\n",
      "finish!\n"
     ]
    }
   ],
   "source": [
    "i = 1\n",
    "while i < 100:\n",
    "    i *= 2\n",
    "    print(i)\n",
    "print('finish!')"
   ]
  },
  {
   "cell_type": "code",
   "execution_count": 17,
   "id": "b395dcfc-9444-400b-aedd-38055ae4fabe",
   "metadata": {
    "tags": []
   },
   "outputs": [
    {
     "name": "stdout",
     "output_type": "stream",
     "text": [
      "400\n",
      "finish\n"
     ]
    }
   ],
   "source": [
    "# 一回でもwhile分を使いたいとき（無限ループ）\n",
    "i = 200\n",
    "while True:\n",
    "    i *= 2\n",
    "    print(i)\n",
    "    if i > 100:\n",
    "        break\n",
    "print('finish')"
   ]
  },
  {
   "cell_type": "markdown",
   "id": "73225a32-5b97-4146-8345-a2c8c1914203",
   "metadata": {
    "jp-MarkdownHeadingCollapsed": true,
    "tags": []
   },
   "source": [
    "# 文字列"
   ]
  },
  {
   "cell_type": "code",
   "execution_count": 21,
   "id": "a88cb6fb-f315-45f0-9a65-6eeaf562f981",
   "metadata": {
    "tags": []
   },
   "outputs": [
    {
     "name": "stdout",
     "output_type": "stream",
     "text": [
      "あいうえお <class 'str'>\n",
      "abcde <class 'str'>\n",
      "12345 <class 'str'>\n",
      "あ\n",
      "a\n",
      "1\n"
     ]
    }
   ],
   "source": [
    "a = 'あいうえお'\n",
    "b = 'abcde'\n",
    "c = str(12345)\n",
    "\n",
    "print(a, type(a))\n",
    "print(b, type(b))\n",
    "print(c, type(c))\n",
    "\n",
    "print(a[0])\n",
    "print(b[0])\n",
    "print(c[0])"
   ]
  },
  {
   "cell_type": "code",
   "execution_count": 27,
   "id": "c7890a7e-db81-44a8-b54b-37a933a7d5ab",
   "metadata": {
    "tags": []
   },
   "outputs": [
    {
     "name": "stdout",
     "output_type": "stream",
     "text": [
      "aaabbb\n"
     ]
    }
   ],
   "source": [
    "# 文字列の結合\n",
    "x = \"aaa\" + \"bbb\"\n",
    "print(x)"
   ]
  },
  {
   "cell_type": "code",
   "execution_count": 23,
   "id": "f9553fee-10bb-4572-9ac7-07b1b8061860",
   "metadata": {
    "tags": []
   },
   "outputs": [
    {
     "name": "stdout",
     "output_type": "stream",
     "text": [
      "abcabcabc\n"
     ]
    }
   ],
   "source": [
    "x = \"abc\" * 3\n",
    "print(x)"
   ]
  },
  {
   "cell_type": "code",
   "execution_count": 26,
   "id": "d19c92ce-0307-4838-b24d-16a203d43a50",
   "metadata": {
    "tags": []
   },
   "outputs": [
    {
     "name": "stdout",
     "output_type": "stream",
     "text": [
      "a-b-c\n"
     ]
    }
   ],
   "source": [
    "# joinメソッド（文字列にしか使えない）\n",
    "x = '-'.join(['a', 'b', 'c'])\n",
    "print(x)"
   ]
  },
  {
   "cell_type": "code",
   "execution_count": 28,
   "id": "411f5101-8a84-4aec-a78c-e8d1723743c0",
   "metadata": {
    "tags": []
   },
   "outputs": [
    {
     "name": "stdout",
     "output_type": "stream",
     "text": [
      "['I', 'study', 'python.']\n"
     ]
    }
   ],
   "source": [
    "# 文字列の分割（split）\n",
    "x = 'I study python.'\n",
    "\n",
    "a = x.split()\n",
    "print(a)"
   ]
  },
  {
   "cell_type": "markdown",
   "id": "32f038a3-19ef-493e-99e7-e7fd533ceb6a",
   "metadata": {},
   "source": [
    "デフォルトでは半角スペースで区切る"
   ]
  },
  {
   "cell_type": "code",
   "execution_count": 4,
   "id": "91442dc3-cd45-497b-98ec-50dd533b0798",
   "metadata": {
    "tags": []
   },
   "outputs": [
    {
     "name": "stdout",
     "output_type": "stream",
     "text": [
      "['I study', 'python.']\n"
     ]
    }
   ],
   "source": [
    "x = 'I study-python.'\n",
    "\n",
    "a = x.split(sep = '-')\n",
    "print(a)"
   ]
  },
  {
   "cell_type": "markdown",
   "id": "e0adecfe-c8dd-46d6-8f5a-526aa497aa1d",
   "metadata": {},
   "source": [
    "文字列の検索は\n",
    "\n",
    "'abc' in x　\n",
    "\n",
    "で調べる"
   ]
  },
  {
   "cell_type": "code",
   "execution_count": 35,
   "id": "cb2ea407-5fa3-42ec-83cf-276b5a57ec8a",
   "metadata": {
    "tags": []
   },
   "outputs": [
    {
     "name": "stdout",
     "output_type": "stream",
     "text": [
      "2\n"
     ]
    }
   ],
   "source": [
    "# 文字列の検索（find)\n",
    "\n",
    "x = 'I study python.'\n",
    "\n",
    "a = x.find('s')\n",
    "print(a)"
   ]
  },
  {
   "cell_type": "markdown",
   "id": "a01bcebd-a6e0-4378-b725-58415e526e23",
   "metadata": {},
   "source": [
    "インデックスが返される\n",
    "\n",
    "半角スペースも数える\n",
    "\n",
    "連続した文字列を検索した場合は最小のインデックスが返される"
   ]
  },
  {
   "cell_type": "code",
   "execution_count": 37,
   "id": "c9fa6162-bf06-4921-8a92-f12ac5998241",
   "metadata": {
    "tags": []
   },
   "outputs": [
    {
     "name": "stdout",
     "output_type": "stream",
     "text": [
      "2\n",
      "-1\n"
     ]
    }
   ],
   "source": [
    "x = 'I study Python.'\n",
    "\n",
    "a1 = x.find('study')\n",
    "a2 = x.find('python')\n",
    "print(a1)\n",
    "print(a2)"
   ]
  },
  {
   "cell_type": "markdown",
   "id": "f8d0faa8-38ce-44f3-a7d4-485a61eb43c1",
   "metadata": {},
   "source": [
    "文字列がない場合は-1が返される"
   ]
  },
  {
   "cell_type": "code",
   "execution_count": 38,
   "id": "18f80abd-7319-4edd-a19b-77e07ea4b4f6",
   "metadata": {
    "tags": []
   },
   "outputs": [
    {
     "name": "stdout",
     "output_type": "stream",
     "text": [
      "I study ruby.\n"
     ]
    }
   ],
   "source": [
    "# 文字列の置換\n",
    "x = 'I study python.'\n",
    "\n",
    "a = x.replace('python', 'ruby')\n",
    "print(a)"
   ]
  },
  {
   "cell_type": "code",
   "execution_count": 8,
   "id": "ff560b1f-db33-40db-9ed7-7790c48f8d53",
   "metadata": {
    "tags": []
   },
   "outputs": [
    {
     "name": "stdout",
     "output_type": "stream",
     "text": [
      "Istudypython.\n"
     ]
    }
   ],
   "source": [
    "x = 'I study python.'\n",
    "\n",
    "a = x.replace(' ', '' )\n",
    "print(a)\n"
   ]
  },
  {
   "cell_type": "markdown",
   "id": "3d2b287f-e360-4101-8598-927f9a182922",
   "metadata": {},
   "source": [
    "空の文字列だと削除できる"
   ]
  },
  {
   "cell_type": "code",
   "execution_count": 9,
   "id": "cf339aaa-ee43-4315-8fe4-76e86ea491b5",
   "metadata": {
    "tags": []
   },
   "outputs": [
    {
     "name": "stdout",
     "output_type": "stream",
     "text": [
      "1 + 2 = 3\n"
     ]
    }
   ],
   "source": [
    "# 変数を含む文字列（format）\n",
    "x = 3\n",
    "\n",
    "print(\"1 + 2 = {}\".format(x))"
   ]
  },
  {
   "cell_type": "code",
   "execution_count": 42,
   "id": "f237d71f-4d62-4174-afd9-63292a780d2e",
   "metadata": {
    "tags": []
   },
   "outputs": [
    {
     "name": "stdout",
     "output_type": "stream",
     "text": [
      "1 + 2 = 3\n"
     ]
    }
   ],
   "source": [
    "x = 3\n",
    "\n",
    "print(\"1 + 2 = {}\".format(1 + 2))"
   ]
  },
  {
   "cell_type": "markdown",
   "id": "bd530d5b-2305-4a79-a196-dcb32d1ed6a7",
   "metadata": {},
   "source": [
    "↑変数の中に計算式を入れても大丈夫"
   ]
  },
  {
   "cell_type": "markdown",
   "id": "10a70f1a-e185-46bc-8343-e33ff392b7ea",
   "metadata": {},
   "source": [
    "複数{}の利用、引数の順番を指定することも可能"
   ]
  },
  {
   "cell_type": "code",
   "execution_count": 49,
   "id": "7f6e0fa5-b65a-4a9a-a0c2-e6b9f1621838",
   "metadata": {
    "tags": []
   },
   "outputs": [
    {
     "name": "stdout",
     "output_type": "stream",
     "text": [
      "9 + 4 = 13\n"
     ]
    }
   ],
   "source": [
    "x = 4\n",
    "y = 9\n",
    "\n",
    "print(\"{1} + {0} = {2}\".format(x, y, x + y))"
   ]
  },
  {
   "cell_type": "code",
   "execution_count": 52,
   "id": "aea6c484-9c7a-47a1-8d5d-bdaa7fde6bc7",
   "metadata": {
    "tags": []
   },
   "outputs": [
    {
     "name": "stdout",
     "output_type": "stream",
     "text": [
      "1 + 2 = 3\n"
     ]
    }
   ],
   "source": [
    "# キーワード引数\n",
    "x = 1\n",
    "y = 2\n",
    "\n",
    "print(\"{A} + {B} = {result}\".format(A = x, B = y, result = x + y))"
   ]
  },
  {
   "cell_type": "markdown",
   "id": "b7ad5117-e68e-48f8-97bb-66aafe56b42b",
   "metadata": {},
   "source": [
    "ここでのA,B,resultは仮引数と呼び、x、y、x＋yは実引数と呼ぶ"
   ]
  },
  {
   "cell_type": "code",
   "execution_count": 54,
   "id": "e71e81e0-7565-4c84-af07-f444345bb8e7",
   "metadata": {
    "tags": []
   },
   "outputs": [
    {
     "name": "stdout",
     "output_type": "stream",
     "text": [
      "1 + 3 = 0.33\n"
     ]
    }
   ],
   "source": [
    "# 文字列の書式の指定\n",
    "x = 1\n",
    "y = 3\n",
    "\n",
    "print(\"{} + {} = {:.2f}\".format(x, y, x / y))"
   ]
  },
  {
   "cell_type": "code",
   "execution_count": 57,
   "id": "eb039350-d8c5-4962-8aeb-2050bbaf3089",
   "metadata": {
    "tags": []
   },
   "outputs": [
    {
     "name": "stdout",
     "output_type": "stream",
     "text": [
      "1 + 3 = 0.33\n"
     ]
    }
   ],
   "source": [
    "# format済み文字列\n",
    "x = 1\n",
    "y = 3\n",
    "\n",
    "print(f\"{x} + {y} = {x / y:.2f}\")"
   ]
  },
  {
   "cell_type": "markdown",
   "id": "3e10abd5-83c3-45ad-ae4e-30845b99a1f7",
   "metadata": {
    "jp-MarkdownHeadingCollapsed": true,
    "tags": []
   },
   "source": [
    "# 例外処理"
   ]
  },
  {
   "cell_type": "markdown",
   "id": "1da8981d-6e91-4c2e-bcca-03dfb4c33713",
   "metadata": {},
   "source": [
    "エラーが起きたりしたときでも、プログラムのそのまま先に進める処理"
   ]
  },
  {
   "cell_type": "markdown",
   "id": "73a09699-d304-46e3-a706-d506cfcbe819",
   "metadata": {
    "tags": []
   },
   "source": [
    "エラーの種類\n",
    "\n",
    "①構文エラー\n",
    "\n",
    "②例外"
   ]
  },
  {
   "cell_type": "code",
   "execution_count": 59,
   "id": "de93acb8-c5ef-4c8b-a12c-3919bf85f7be",
   "metadata": {
    "tags": []
   },
   "outputs": [
    {
     "name": "stdout",
     "output_type": "stream",
     "text": [
      "start!\n"
     ]
    },
    {
     "ename": "ZeroDivisionError",
     "evalue": "division by zero",
     "output_type": "error",
     "traceback": [
      "\u001b[0;31m---------------------------------------------------------------------------\u001b[0m",
      "\u001b[0;31mZeroDivisionError\u001b[0m                         Traceback (most recent call last)",
      "Cell \u001b[0;32mIn[59], line 6\u001b[0m\n\u001b[1;32m      3\u001b[0m b \u001b[38;5;241m=\u001b[39m \u001b[38;5;241m0\u001b[39m\n\u001b[1;32m      5\u001b[0m \u001b[38;5;28mprint\u001b[39m(\u001b[38;5;124m\"\u001b[39m\u001b[38;5;124mstart!\u001b[39m\u001b[38;5;124m\"\u001b[39m)\n\u001b[0;32m----> 6\u001b[0m \u001b[38;5;28mprint\u001b[39m(a \u001b[38;5;241m/\u001b[39m b)\n\u001b[1;32m      7\u001b[0m \u001b[38;5;28mprint\u001b[39m(\u001b[38;5;124m\"\u001b[39m\u001b[38;5;124mfinish\u001b[39m\u001b[38;5;124m\"\u001b[39m)\n",
      "\u001b[0;31mZeroDivisionError\u001b[0m: division by zero"
     ]
    }
   ],
   "source": [
    "# 例外エラーの例\n",
    "a = 2\n",
    "b = 0\n",
    "\n",
    "print(\"start!\")\n",
    "print(a / b)\n",
    "print(\"finish\")"
   ]
  },
  {
   "cell_type": "code",
   "execution_count": 61,
   "id": "16a925b3-cdbf-429c-a11a-4aa79840228f",
   "metadata": {
    "tags": []
   },
   "outputs": [
    {
     "name": "stdout",
     "output_type": "stream",
     "text": [
      "start!\n",
      "0除算エラーです\n"
     ]
    }
   ],
   "source": [
    "# try except文\n",
    "a = 2\n",
    "b = 0\n",
    "\n",
    "try:\n",
    "    print(\"start!\")\n",
    "    print(a / b)\n",
    "except:\n",
    "    print(\"0除算エラーです\")"
   ]
  },
  {
   "cell_type": "code",
   "execution_count": 64,
   "id": "c84cec31-200f-4293-bb69-b92fa1fb493b",
   "metadata": {
    "tags": []
   },
   "outputs": [
    {
     "name": "stdout",
     "output_type": "stream",
     "text": [
      "start!\n",
      "2.0\n",
      "エラーは発生しませんでした\n"
     ]
    }
   ],
   "source": [
    "# try except else文\n",
    "a = 2\n",
    "b = 1\n",
    "\n",
    "try:\n",
    "    print(\"start!\")\n",
    "    print(a / b)\n",
    "except:\n",
    "    print(\"0除算エラーです\")\n",
    "else:\n",
    "    print(\"エラーは発生しませんでした\")"
   ]
  },
  {
   "cell_type": "markdown",
   "id": "46d27c99-b8e6-41ce-b936-add8d217b406",
   "metadata": {},
   "source": [
    "↑elseはexceptが実行されないときに実行される"
   ]
  },
  {
   "cell_type": "code",
   "execution_count": 67,
   "id": "9e24922f-d1af-4cb1-a016-70d55b4a5062",
   "metadata": {
    "tags": []
   },
   "outputs": [
    {
     "name": "stdout",
     "output_type": "stream",
     "text": [
      "start!\n",
      "0除算エラーです\n",
      "finish!\n"
     ]
    }
   ],
   "source": [
    "# try except else finally文\n",
    "a = 2\n",
    "b = 0\n",
    "\n",
    "try:\n",
    "    print(\"start!\")\n",
    "    print(a / b)\n",
    "except:\n",
    "    print(\"0除算エラーです\")\n",
    "else:\n",
    "    print(\"エラーは発生しませんでした\")\n",
    "finally:\n",
    "    print(\"finish!\")"
   ]
  },
  {
   "cell_type": "markdown",
   "id": "47d56e78-9150-4d01-adce-d72f0b752e53",
   "metadata": {},
   "source": [
    "↑finallyはエラーでも実行される"
   ]
  },
  {
   "cell_type": "code",
   "execution_count": 71,
   "id": "fb3bd873-14cc-425a-9c95-571d95cd55a6",
   "metadata": {
    "tags": []
   },
   "outputs": [
    {
     "name": "stdout",
     "output_type": "stream",
     "text": [
      "start!\n",
      "データ型エラーです\n"
     ]
    }
   ],
   "source": [
    "# 例外処理の場合分け\n",
    "a = 2\n",
    "b = \"aaa\"\n",
    "\n",
    "try:\n",
    "    print(\"start!\")\n",
    "    print(a / b)\n",
    "except ZeroDivisionError:\n",
    "    print(\"0除算エラーです\")\n",
    "except TypeError:\n",
    "    print(\"データ型エラーです\")"
   ]
  },
  {
   "cell_type": "code",
   "execution_count": 75,
   "id": "60a208ca-6227-45e4-8892-916ced43cca3",
   "metadata": {
    "tags": []
   },
   "outputs": [
    {
     "name": "stdout",
     "output_type": "stream",
     "text": [
      "start!\n",
      "division by zero\n",
      "finish!\n"
     ]
    }
   ],
   "source": [
    "# エラー内容出力\n",
    "a = 2\n",
    "b = 0\n",
    "\n",
    "try:\n",
    "    print(\"start!\")\n",
    "    print(a / b)\n",
    "except Exception as e:\n",
    "    print(e)\n",
    "finally:\n",
    "    print(\"finish!\")"
   ]
  },
  {
   "cell_type": "markdown",
   "id": "c2019339-4944-45fd-abee-8bb644168171",
   "metadata": {},
   "source": [
    "エラーの種類にexceptionを書くと、システムを終了させる以外のエラーが当てはまる"
   ]
  },
  {
   "cell_type": "markdown",
   "id": "9d0a1900-86da-4ed0-a82f-5e2b37df1c4b",
   "metadata": {
    "jp-MarkdownHeadingCollapsed": true,
    "tags": []
   },
   "source": [
    "# 内包表記\n",
    "一定のルールに従ったリスト・集合・辞書などを作成するための簡潔な記述方法"
   ]
  },
  {
   "cell_type": "code",
   "execution_count": 81,
   "id": "432d6045-21f6-4bdf-9fec-6e280ed70ab9",
   "metadata": {
    "tags": []
   },
   "outputs": [
    {
     "name": "stdout",
     "output_type": "stream",
     "text": [
      "[0, 1, 2, 3]\n",
      "[0, 1, 2, 3]\n"
     ]
    }
   ],
   "source": [
    "# リスト内包表記（forを使う場合と比較）\n",
    "l1 = []\n",
    "for i in range(4): \n",
    "    l1.append(i)\n",
    "\n",
    "l2 = [i for i in range(4)]\n",
    "\n",
    "print(l1)\n",
    "print(l2)"
   ]
  },
  {
   "cell_type": "code",
   "execution_count": 84,
   "id": "7e096bf8-4c08-4bad-a9fb-a6ee001fe424",
   "metadata": {
    "tags": []
   },
   "outputs": [
    {
     "name": "stdout",
     "output_type": "stream",
     "text": [
      "[0.0, 0.5, 1.0, 1.5]\n"
     ]
    }
   ],
   "source": [
    "# カウンタ変数を計算式にすることも可能（次の集合のやつでも可能）\n",
    "l1 = [i / 2 for i in range(4)]\n",
    "\n",
    "print(l1)"
   ]
  },
  {
   "cell_type": "code",
   "execution_count": 85,
   "id": "9ba6ca35-29f5-4f2f-a77d-a280c3ca0d2f",
   "metadata": {
    "tags": []
   },
   "outputs": [
    {
     "name": "stdout",
     "output_type": "stream",
     "text": [
      "{0, 1, 2, 3}\n"
     ]
    }
   ],
   "source": [
    "# 集合内包表記\n",
    "s = {i for i in range(4)}\n",
    "\n",
    "print(s)"
   ]
  },
  {
   "cell_type": "code",
   "execution_count": 86,
   "id": "12fd0947-1cd1-4d97-a97e-02738c6a3b26",
   "metadata": {
    "tags": []
   },
   "outputs": [
    {
     "name": "stdout",
     "output_type": "stream",
     "text": [
      "{0: 0, 1: 2, 2: 4, 3: 6}\n"
     ]
    }
   ],
   "source": [
    "# 辞書内包表記\n",
    "d = {i : i * 2 for i in range(4)}\n",
    "\n",
    "print(d)"
   ]
  },
  {
   "cell_type": "code",
   "execution_count": 87,
   "id": "2fe84f53-b6c7-4ae2-8a96-295115fe3254",
   "metadata": {
    "tags": []
   },
   "outputs": [
    {
     "name": "stdout",
     "output_type": "stream",
     "text": [
      "[0, 2, 4, 6, 8]\n"
     ]
    }
   ],
   "source": [
    "# 条件付き内包表記\n",
    "l1 = [i for i in range(10) if i % 2 == 0]\n",
    "\n",
    "print(l1)"
   ]
  },
  {
   "cell_type": "code",
   "execution_count": 91,
   "id": "5e580237-3b23-4c8f-a4f8-a65853561fa9",
   "metadata": {
    "tags": []
   },
   "outputs": [
    {
     "name": "stdout",
     "output_type": "stream",
     "text": [
      "{0: 'even', 1: 'odd', 2: 'even', 3: 'odd', 4: 'even', 5: 'odd', 6: 'even', 7: 'odd', 8: 'even', 9: 'odd'}\n"
     ]
    }
   ],
   "source": [
    "l1 = {i : \"even\" if i % 2 == 0 else \"odd\" for i in range(10)}\n",
    "\n",
    "print(l1)"
   ]
  },
  {
   "cell_type": "code",
   "execution_count": 95,
   "id": "48b6511f-b591-4f55-8bad-d0d172753d93",
   "metadata": {
    "tags": []
   },
   "outputs": [
    {
     "name": "stdout",
     "output_type": "stream",
     "text": [
      "[11, 12, 13, 101, 102, 103, 1001, 1002, 1003]\n",
      "[11, 12, 13, 101, 102, 103, 1001, 1002, 1003]\n"
     ]
    }
   ],
   "source": [
    "# 内包表記のネスト\n",
    "l1 = []\n",
    "for i in (10, 100, 1000): \n",
    "    for j in (1, 2, 3):\n",
    "        l1.append(i + j)\n",
    "\n",
    "l2 = [i + j for i in (10, 100, 1000) for j in (1, 2, 3)]\n",
    "\n",
    "print(l1)\n",
    "print(l2)"
   ]
  },
  {
   "cell_type": "markdown",
   "id": "4c02072c-5359-4abd-9a87-516558bfced2",
   "metadata": {},
   "source": [
    "ただし、式や変数が読みづらくなる場合には注意すること"
   ]
  },
  {
   "cell_type": "markdown",
   "id": "87645b66-9d37-42bc-8b8b-968d73d617c1",
   "metadata": {},
   "source": [
    "ーーーーーーーーーーーーーーーーーーーーーーーーーーーーーーーーーしおりーーーーーーーーーーーーーーーーーーーーーーーーーーーーーーーー"
   ]
  },
  {
   "cell_type": "markdown",
   "id": "470218fd-aa02-40db-b57f-f99dba3fa125",
   "metadata": {
    "jp-MarkdownHeadingCollapsed": true,
    "tags": []
   },
   "source": [
    "# 関数（復習はここから）"
   ]
  },
  {
   "cell_type": "markdown",
   "id": "570be25f-a638-4f72-8ebe-650c4d315338",
   "metadata": {
    "tags": []
   },
   "source": [
    "いろいろな処理をまとめて一つにしたもの\n",
    "\n",
    "便利な部分\n",
    "「同じものを2回書かずに済む」「1行で使い回しが可能」「他の人も使うことができる」"
   ]
  },
  {
   "cell_type": "markdown",
   "id": "269d72a2-5ac7-4ffc-a405-2cf4b449918e",
   "metadata": {
    "tags": []
   },
   "source": [
    "・　組み込み関数\n",
    "\n",
    "printとか、本来は何行ものコードがあってprintされる"
   ]
  },
  {
   "cell_type": "code",
   "execution_count": 20,
   "id": "89e576be-e96b-478e-ba2b-83f19c62d12b",
   "metadata": {
    "tags": []
   },
   "outputs": [
    {
     "name": "stdout",
     "output_type": "stream",
     "text": [
      "Hello world!\n"
     ]
    }
   ],
   "source": [
    "# def function（引数):  \n",
    "def say_hello():\n",
    "    print(\"Hello world!\")\n",
    "    \n",
    "say_hello()\n",
    "\n",
    "# 引数は省略可能"
   ]
  },
  {
   "cell_type": "code",
   "execution_count": 21,
   "id": "454dd067-4615-47dd-a0a9-9d398e7dbfaa",
   "metadata": {
    "tags": []
   },
   "outputs": [
    {
     "name": "stdout",
     "output_type": "stream",
     "text": [
      "Good morning!\n"
     ]
    }
   ],
   "source": [
    "# 関数を変数へ代入\n",
    "def say_hello(greeting):\n",
    "    print(greeting)\n",
    "    \n",
    "a = say_hello\n",
    "a(\"Good morning!\")\n",
    "\n"
   ]
  },
  {
   "cell_type": "code",
   "execution_count": 22,
   "id": "9fcd14dc-adfa-4f1c-940f-95e3dad4781b",
   "metadata": {
    "tags": []
   },
   "outputs": [
    {
     "name": "stdout",
     "output_type": "stream",
     "text": [
      "3\n"
     ]
    }
   ],
   "source": [
    "def add(num1, num2):\n",
    "    print(num1 + num2)\n",
    "    \n",
    "add(1, 2)\n",
    "\n",
    "# 何個でも追加可能"
   ]
  },
  {
   "cell_type": "code",
   "execution_count": 24,
   "id": "5a435099-a99c-4066-a2fb-f847b14058a7",
   "metadata": {
    "tags": []
   },
   "outputs": [
    {
     "name": "stdout",
     "output_type": "stream",
     "text": [
      "3\n",
      "3\n"
     ]
    }
   ],
   "source": [
    "# 戻り値（処理の結果として返す値）（return）\n",
    "def add(num1, num2):\n",
    "    return(num1 + num2)\n",
    "    \n",
    "print(add(1, 2))\n",
    "\n",
    "add_result = add(1, 2)\n",
    "print(add_result)\n"
   ]
  },
  {
   "cell_type": "code",
   "execution_count": 32,
   "id": "8dabd747-ab3c-407a-b389-b5a01cf671bc",
   "metadata": {
    "tags": []
   },
   "outputs": [
    {
     "name": "stdout",
     "output_type": "stream",
     "text": [
      "1\n",
      "2\n"
     ]
    }
   ],
   "source": [
    "# デフォルト引数（エラー回避のため）\n",
    "def show_number(a = 1, b = 2):\n",
    "    print(a)\n",
    "    print(b)\n",
    "\n",
    "show_number()"
   ]
  },
  {
   "cell_type": "code",
   "execution_count": 31,
   "id": "25deea3c-fb6a-43fc-9f97-963c236e931c",
   "metadata": {
    "tags": []
   },
   "outputs": [
    {
     "name": "stdout",
     "output_type": "stream",
     "text": [
      "3\n",
      "4\n"
     ]
    }
   ],
   "source": [
    "def show_number(a = 1, b = 2):\n",
    "    print(a)\n",
    "    print(b)\n",
    "\n",
    "show_number(3, 4)\n",
    "# 引数を渡すと上書きされる"
   ]
  },
  {
   "cell_type": "code",
   "execution_count": 35,
   "id": "eab6e45e-6c30-4aa7-854a-955e4db4a90a",
   "metadata": {
    "tags": []
   },
   "outputs": [
    {
     "name": "stdout",
     "output_type": "stream",
     "text": [
      "3\n",
      "2\n"
     ]
    }
   ],
   "source": [
    "# 注意点１ デフォルト値を渡さない引数を先に書く\n",
    "def show_number(a, b = 2):\n",
    "    print(a)\n",
    "    print(b)\n",
    "\n",
    "show_number(3)"
   ]
  },
  {
   "cell_type": "code",
   "execution_count": 36,
   "id": "94ba369f-a2db-4c16-8f81-46640ee4cfe6",
   "metadata": {
    "tags": []
   },
   "outputs": [
    {
     "name": "stdout",
     "output_type": "stream",
     "text": [
      "1\n"
     ]
    }
   ],
   "source": [
    "# 注意点2 デフォルト引数は関数定義時に一度だけ評価される\n",
    "x = 1\n",
    "def show_number(a = x):\n",
    "    print(a)\n",
    "\n",
    "x = 10\n",
    "show_number()"
   ]
  },
  {
   "cell_type": "code",
   "execution_count": 38,
   "id": "3cfa3bdc-0a98-4117-98ac-0ccdf3425dd0",
   "metadata": {
    "tags": []
   },
   "outputs": [
    {
     "name": "stdout",
     "output_type": "stream",
     "text": [
      "[1] 4532902528\n",
      "[1, 1] 4532902528\n",
      "[1, 1, 1] 4532902528\n"
     ]
    }
   ],
   "source": [
    "def show_number(a = []):\n",
    "    a.append(1)\n",
    "    print(a, id(a))\n",
    "\n",
    "show_number()\n",
    "show_number()\n",
    "show_number()"
   ]
  },
  {
   "cell_type": "code",
   "execution_count": 40,
   "id": "59224e22-e955-450e-8cf1-ced7bdf51bdc",
   "metadata": {
    "tags": []
   },
   "outputs": [
    {
     "name": "stdout",
     "output_type": "stream",
     "text": [
      "10\n",
      "100\n",
      "2\n"
     ]
    }
   ],
   "source": [
    "# キーワード引数（↔️位置引数）\n",
    "def show_number(a, b, c):\n",
    "    print(a)\n",
    "    print(b)\n",
    "    print(c)\n",
    "\n",
    "show_number(c = 2, a = 10, b = 100)"
   ]
  },
  {
   "cell_type": "markdown",
   "id": "bf3f3c67-d45a-45dd-9ab2-9f5c8553ea19",
   "metadata": {
    "tags": []
   },
   "source": [
    "仮引数（関数を定義するときに使う）\n",
    "\n",
    "実引数（関数を呼び出すときに使う）"
   ]
  },
  {
   "cell_type": "code",
   "execution_count": 47,
   "id": "8a593da7-1516-487e-94b2-c07211b1aec1",
   "metadata": {
    "tags": []
   },
   "outputs": [
    {
     "ename": "SyntaxError",
     "evalue": "positional argument follows keyword argument (1630361827.py, line 6)",
     "output_type": "error",
     "traceback": [
      "\u001b[0;36m  Cell \u001b[0;32mIn[47], line 6\u001b[0;36m\u001b[0m\n\u001b[0;31m    show_number(a = 2, 10, 200)\u001b[0m\n\u001b[0m                              ^\u001b[0m\n\u001b[0;31mSyntaxError\u001b[0m\u001b[0;31m:\u001b[0m positional argument follows keyword argument\n"
     ]
    }
   ],
   "source": [
    "def show_number(a, b, c):\n",
    "    print(a)\n",
    "    print(b)\n",
    "    print(c)\n",
    "\n",
    "show_number(a = 2, 10, 200)\n",
    "# 位置引数を最初の書く"
   ]
  },
  {
   "cell_type": "code",
   "execution_count": 49,
   "id": "f10d988b-4639-4418-a4eb-a9056a761078",
   "metadata": {
    "tags": []
   },
   "outputs": [
    {
     "name": "stdout",
     "output_type": "stream",
     "text": [
      "1\n",
      "2\n",
      "(3, 4, 5)\n"
     ]
    }
   ],
   "source": [
    "# 可変長位置引数\n",
    "def show_number(a, b, *args):\n",
    "    print(a)\n",
    "    print(b)\n",
    "    print(args)\n",
    "\n",
    "show_number(1, 2, 3, 4, 5)"
   ]
  },
  {
   "cell_type": "markdown",
   "id": "48a10169-2e8c-4b77-b722-fcc872346955",
   "metadata": {},
   "source": [
    "argsと書くことが多い"
   ]
  },
  {
   "cell_type": "code",
   "execution_count": 51,
   "id": "e84e6988-acab-4905-8ce8-dac83f16e002",
   "metadata": {
    "tags": []
   },
   "outputs": [
    {
     "name": "stdout",
     "output_type": "stream",
     "text": [
      "1\n",
      "2\n",
      "3 4 5\n"
     ]
    }
   ],
   "source": [
    "# 可変長位置引数(タプルを展開して表示)\n",
    "def show_number(a, b, *args):\n",
    "    print(a)\n",
    "    print(b)\n",
    "    print(*args)\n",
    "\n",
    "show_number(1, 2, 3, 4, 5)"
   ]
  },
  {
   "cell_type": "code",
   "execution_count": 52,
   "id": "47b64960-1dc4-4df8-b8a4-536e2e9f8e2f",
   "metadata": {
    "tags": []
   },
   "outputs": [
    {
     "name": "stdout",
     "output_type": "stream",
     "text": [
      "1\n",
      "2\n",
      "3\n",
      "4\n",
      "5\n"
     ]
    }
   ],
   "source": [
    "# 可変長位置引数(forでタプルを取り出す)\n",
    "def show_number(a, b, *args):\n",
    "    print(a)\n",
    "    print(b)\n",
    "    for i in args:\n",
    "        print(i)\n",
    "\n",
    "show_number(1, 2, 3, 4, 5)"
   ]
  },
  {
   "cell_type": "code",
   "execution_count": 56,
   "id": "cf90fe12-2bc9-40b0-93d9-6957e8014126",
   "metadata": {
    "tags": []
   },
   "outputs": [
    {
     "name": "stdout",
     "output_type": "stream",
     "text": [
      "a\n",
      "a b\n",
      "a b c\n",
      "5\n"
     ]
    }
   ],
   "source": [
    "# print()やmax()も可変長位置引数が使われている\n",
    "\n",
    "print(\"a\")\n",
    "print(\"a\", \"b\")\n",
    "print(\"a\", \"b\",\"c\")\n",
    "\n",
    "print(max(1, 2, 3, 4, 5))"
   ]
  },
  {
   "cell_type": "markdown",
   "id": "a0f79013-0ef9-4d86-a496-e938db95358c",
   "metadata": {},
   "source": [
    "何個引数を渡してもエラーにならない。"
   ]
  },
  {
   "cell_type": "code",
   "execution_count": 57,
   "id": "a6cda08f-ba6e-4d7e-b8c3-095774c93e5a",
   "metadata": {},
   "outputs": [
    {
     "name": "stdout",
     "output_type": "stream",
     "text": [
      "{'a': 1, 'b': 2, 'c': 3}\n"
     ]
    }
   ],
   "source": [
    "# 可変長キーワード引数\n",
    "def show_number(**kwargs):\n",
    "    print(kwargs)\n",
    "\n",
    "show_number(a = 1, b = 2, c = 3)"
   ]
  },
  {
   "cell_type": "code",
   "execution_count": 60,
   "id": "7a71861f-d946-4b85-885d-78f0250d69da",
   "metadata": {
    "tags": []
   },
   "outputs": [
    {
     "name": "stdout",
     "output_type": "stream",
     "text": [
      "{'a': 1, 'b': 2, 'c': 3}\n"
     ]
    }
   ],
   "source": [
    "# 可変長キーワード引数（辞書の展開）\n",
    "def show_number(**kwargs):\n",
    "    print(kwargs)\n",
    "\n",
    "d = {\"a\" : 1, \"b\" : 2, \"c\" : 3}\n",
    "\n",
    "show_number(**d)"
   ]
  },
  {
   "cell_type": "markdown",
   "id": "3d3ba5a0-f7ec-4f63-836c-c5c7e60eb304",
   "metadata": {},
   "source": [
    "dict関数で使われている"
   ]
  },
  {
   "cell_type": "code",
   "execution_count": 63,
   "id": "5d9100bd-e574-42ca-9357-03579845378b",
   "metadata": {
    "tags": []
   },
   "outputs": [
    {
     "name": "stdout",
     "output_type": "stream",
     "text": [
      "1\n",
      "2\n"
     ]
    }
   ],
   "source": [
    "# 関数内関数\n",
    "def outer_func(a, b):\n",
    "    def inner_func(c, d):\n",
    "        return c - d\n",
    "    x = inner_func(2, 1)\n",
    "    y = inner_func(a, b)\n",
    "    print(x)\n",
    "    print(y)\n",
    "\n",
    "outer_func(3, 1)\n",
    "    "
   ]
  },
  {
   "cell_type": "markdown",
   "id": "0f731994-0005-43a5-a93a-d61ca12da9e5",
   "metadata": {},
   "source": [
    "他では使われないけど、関数内で似たような処理を繰り返したい時に使う\n",
    "\n",
    "内側にある関数は呼び出すことはできない"
   ]
  },
  {
   "cell_type": "code",
   "execution_count": 67,
   "id": "451abe2f-215a-4914-9a49-03d45d87d119",
   "metadata": {
    "tags": []
   },
   "outputs": [
    {
     "name": "stdout",
     "output_type": "stream",
     "text": [
      "12.56\n",
      "12\n"
     ]
    }
   ],
   "source": [
    "# クロージャー\n",
    "def circle_area(pi):\n",
    "    def calculation(radius):\n",
    "        return pi * radius * radius\n",
    "    return calculation\n",
    "\n",
    "area1 = circle_area(3.14)\n",
    "area2 = circle_area(3)\n",
    "\n",
    "print(area1(2))\n",
    "print(area2(2))\n",
    "\n",
    "# この場合クロージャーはcalculation"
   ]
  },
  {
   "cell_type": "markdown",
   "id": "8c36768a-f68b-4f30-847b-96fa1069371c",
   "metadata": {},
   "source": [
    "外側で宣言された引数などを記憶することが可能\n",
    "\n",
    "変数を定義しなくても一部の値を変えて使まわしができる"
   ]
  },
  {
   "cell_type": "code",
   "execution_count": 68,
   "id": "e41c4258-b81e-4f40-ae83-eda8f16eb497",
   "metadata": {
    "tags": []
   },
   "outputs": [
    {
     "name": "stdout",
     "output_type": "stream",
     "text": [
      "start!\n",
      "3\n",
      "finish!\n",
      "start!\n",
      "5\n",
      "finish!\n"
     ]
    }
   ],
   "source": [
    "def info(func):\n",
    "    def wrapper(a, b):\n",
    "        print(\"start!\")\n",
    "        func(a, b)\n",
    "        print(\"finish!\")\n",
    "    return wrapper\n",
    "\n",
    "def add(a, b):\n",
    "    print(a + b)\n",
    "    \n",
    "add_result = info(add)\n",
    "add_result(1, 2)\n",
    "add_result(2, 3)"
   ]
  },
  {
   "cell_type": "code",
   "execution_count": 70,
   "id": "b6e57267-9a9f-4dde-801e-942472d90e77",
   "metadata": {
    "tags": []
   },
   "outputs": [
    {
     "name": "stdout",
     "output_type": "stream",
     "text": [
      "start!\n",
      "3\n",
      "finish!\n",
      "start!\n",
      "5\n",
      "finish!\n"
     ]
    }
   ],
   "source": [
    "# デコレーター（関数を修飾する関数）\n",
    "def info(func):\n",
    "    def wrapper(a, b):\n",
    "        print(\"start!\")\n",
    "        func(a, b)\n",
    "        print(\"finish!\")\n",
    "    return wrapper\n",
    "\n",
    "@info\n",
    "def add(a, b):\n",
    "    print(a + b)\n",
    "    \n",
    "add(1, 2)\n",
    "add(2, 3)\n",
    "# ただしこれだと引数の数を揃える必要があるので汎用性が低い"
   ]
  },
  {
   "cell_type": "code",
   "execution_count": 72,
   "id": "4d7b9eb6-bd9b-465b-af08-269e545c48a6",
   "metadata": {
    "tags": []
   },
   "outputs": [
    {
     "name": "stdout",
     "output_type": "stream",
     "text": [
      "start!\n",
      "3\n",
      "finish!\n",
      "start!\n",
      "9\n",
      "finish!\n"
     ]
    }
   ],
   "source": [
    "# 可変長にしたバージョン（位置かkw）\n",
    "def info(func):\n",
    "    def wrapper(*args, **kwargs):\n",
    "        print(\"start!\")\n",
    "        func(*args, **kwargs)\n",
    "        print(\"finish!\")\n",
    "    return wrapper\n",
    "\n",
    "@info\n",
    "def add1(a, b):\n",
    "    print(a + b)\n",
    "    \n",
    "@info\n",
    "def add2(a, b, c):\n",
    "    print(a + b + c)\n",
    "    \n",
    "add1(1, 2)\n",
    "add2(2, 3, 4)"
   ]
  },
  {
   "cell_type": "markdown",
   "id": "bfdd703f-7eb9-477e-8eb0-d2f7e57fe71f",
   "metadata": {},
   "source": [
    "# モジュール、パッケージ、ライブラリ"
   ]
  },
  {
   "cell_type": "code",
   "execution_count": null,
   "id": "be7bd1f2-d8e8-472d-b41b-ff990e617b55",
   "metadata": {},
   "outputs": [],
   "source": []
  }
 ],
 "metadata": {
  "kernelspec": {
   "display_name": "Python 3 (ipykernel)",
   "language": "python",
   "name": "python3"
  },
  "language_info": {
   "codemirror_mode": {
    "name": "ipython",
    "version": 3
   },
   "file_extension": ".py",
   "mimetype": "text/x-python",
   "name": "python",
   "nbconvert_exporter": "python",
   "pygments_lexer": "ipython3",
   "version": "3.11.5"
  }
 },
 "nbformat": 4,
 "nbformat_minor": 5
}
